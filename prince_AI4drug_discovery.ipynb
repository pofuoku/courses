{
  "nbformat": 4,
  "nbformat_minor": 0,
  "metadata": {
    "colab": {
      "name": "prince_AI4drug_discovery.ipynb",
      "provenance": [],
      "collapsed_sections": [],
      "include_colab_link": true
    },
    "kernelspec": {
      "name": "python3",
      "display_name": "Python 3"
    }
  },
  "cells": [
    {
      "cell_type": "markdown",
      "metadata": {
        "id": "view-in-github",
        "colab_type": "text"
      },
      "source": [
        "<a href=\"https://colab.research.google.com/github/pofuoku/courses/blob/master/prince_AI4drug_discovery.ipynb\" target=\"_parent\"><img src=\"https://colab.research.google.com/assets/colab-badge.svg\" alt=\"Open In Colab\"/></a>"
      ]
    },
    {
      "cell_type": "markdown",
      "metadata": {
        "id": "wSFbIMb87cHu"
      },
      "source": [
        "# **Machine Learning for Drug Repurposing**\n",
        "**_Prince Ofuoku_**<br>\n",
        "**_MSc Bioinformatics_**\n",
        "<br>\n",
        "## **Introduction**\n",
        "Drug discovery is a very long and expensive process. It can take over 10 years and about 3 billion dollars to indentify a novel drug ([_Urbina et al, 2021_](https://www.sciencedirect.com/science/article/pii/S1367593121000818#bib3)). To compound the situation, majority of drugs end up failing clinical trials. In addition, some drugs end up being withdrawn from the market after being approved. <br><br>\n",
        "Drug repurposing (repositioning or reprofiling) is finding a new clinical indication for a drug that has already been approved for some other indications. This markedly reduces the duration and cost of investment; as a result, drug repurposing is growing in popularity ([_Baker et al, 2018_](https://www.sciencedirect.com/science/article/pii/S1359644617302878?casa_token=QXXaRqncoSAAAAAA:Mn_QAhscm1a5H0SZ19eH9rYZHvRxQxnc4RgtlljzQDFqqnRJFVj5xJFujnczyl3VBw1QNtXxGw)). Over 60% of drugs have been tried on more than one disease with varying successes. Examples of drugs that have been successfuly repurposed include:\n",
        "- **Bupropion**: originally used for depression, but was repurposed for smoking cessation.\n",
        "- **Thalidomide**: once a treatment for morning sickness, is now used for multiple myeloma and leprosy.\n",
        "- **Sidenefil**: initialy approved for angina, but is currently being used for erectile dysfunction.\n",
        "\n",
        "I found this article highly informative. [_A bibliometric review of drug repurposing._](https://www.sciencedirect.com/science/article/pii/S1359644617302878?casa_token=QXXaRqncoSAAAAAA:Mn_QAhscm1a5H0SZ19eH9rYZHvRxQxnc4RgtlljzQDFqqnRJFVj5xJFujnczyl3VBw1QNtXxGw)<br><br>\n",
        "Machine Learning aims to speed up drug repurposing process, taking advatange of the recent upturn in data. There are various proposed methodologies in computational discovery, deep learning being one of the most successful and thus the recent trend. The workflow of a computational approach can be roughly summarized in four steps ([_Pan et al, 2022_](https://wires.onlinelibrary.wiley.com/doi/abs/10.1002/wcms.1597)).<br>\n",
        "1. Getting data from reliable sources. Fortunatley, there are tons of databases with information about chemistry, activities of drug-like compounds, and their respective interactions with proteins or targets. They also report useful metrics to quantify their activities such as the binding affinity between a drug and a target, potency of inhibition and so on.\n",
        "2. Representing a molecule as a feature vector, which can be used for computation; a process called featurization.\n",
        "3. Training a model on the features generated above. \n",
        "4. Predicting bioactivites of novel compounds based on the features learned from the training above.<br><br>\n",
        "\n",
        "In this notebook, I will go through similar steps using the bioactivity data of **Acetylcholinesterase (ACh)**, one of the therapeatic targets in Alzheimer's disease, as an example. The rest of the notebook will be divided as follows:<br>\n",
        "- Getting Data\n",
        "- Cleaning Data\n",
        "- Featurization\n",
        "- Building models\n",
        "- Evaluating performace of models\n",
        "- Final thoughts/Conclusion<br>.  \n",
        "\n",
        "I will use the following tools/packages:\n",
        "- Chembl client\n",
        "- Pandas\n",
        "- Tensowflow\n",
        "- Sci-kit Learn\n",
        "- Deepchem\n",
        "- Matplotlib\n",
        "\n",
        "---\n",
        "## **Getting Data**\n",
        "Common databases used in computaional drug discovery include:\n",
        "- [*BindingDB*](http://www.bindingdb.org/bind): A public database of protein-ligand binding affinities.\n",
        "- [*ChEMBL*](https://www.ebi.ac.uk/chembl/): A manually curated database of over 2 million bioactive molecules with drug-like properties.\n",
        "- [*DrugBank*](http://www.drugbank.ca): It combines drug data (i.e., chemical,pharmacological and pharmaceutical) information with drug target information (i.e., sequence, structure and pathway).\n",
        "- [*GeneCards*](https://www.genecards.org): It automatically integrates gene-centric data from 150 web sources, including  genomic, transcriptomic, proteomic, genetic, clinical and functional information. \n",
        "\n",
        "\n",
        "Among others ([_Pan et al, 2022_](https://wires.onlinelibrary.wiley.com/doi/abs/10.1002/wcms.1597)).\n"
      ]
    },
    {
      "cell_type": "markdown",
      "metadata": {
        "id": "toGT1U_B7F2i"
      },
      "source": [
        "ChEMBL has an API that can be used to retrieve data from its database. First step is to install the package, `chemb_webresourse_client`."
      ]
    },
    {
      "cell_type": "code",
      "metadata": {
        "id": "cJGExHQBfLh7"
      },
      "source": [
        "! pip install chembl_webresource_client"
      ],
      "execution_count": null,
      "outputs": []
    },
    {
      "cell_type": "markdown",
      "metadata": {
        "id": "J0kJjL8gb5nX"
      },
      "source": [
        "The `new_client` module contains methods needed for our query. In addition, we need `pandas` to work with the resulting dataframe."
      ]
    },
    {
      "cell_type": "code",
      "metadata": {
        "id": "RXoCvMPPfNrv"
      },
      "source": [
        "import pandas as pd\n",
        "from chembl_webresource_client.new_client import new_client"
      ],
      "execution_count": null,
      "outputs": []
    },
    {
      "cell_type": "markdown",
      "metadata": {
        "id": "7lBsDrD0gAqH"
      },
      "source": [
        "#### Search for target protein\n",
        "\n",
        "- The following codes search for the keyword '*acetylcholinesterase*' in the ChEML database, save the returned query in a pandas dataframe, and display the first five results."
      ]
    },
    {
      "cell_type": "code",
      "metadata": {
        "id": "Vxtp79so4ZjF",
        "outputId": "41310bc7-6849-4055-b55c-07061b66eb24",
        "colab": {
          "base_uri": "https://localhost:8080/",
          "height": 389
        }
      },
      "source": [
        "target = new_client.target\n",
        "target_query = target.search('acetylcholinesterase')\n",
        "targets = pd.DataFrame.from_dict(target_query)\n",
        "targets.head()"
      ],
      "execution_count": null,
      "outputs": [
        {
          "output_type": "execute_result",
          "data": {
            "text/plain": [
              "                                    cross_references                 organism  \\\n",
              "0  [{'xref_id': 'P22303', 'xref_name': None, 'xre...             Homo sapiens   \n",
              "1                                                 []             Homo sapiens   \n",
              "2                                                 []  Drosophila melanogaster   \n",
              "3  [{'xref_id': 'P04058', 'xref_name': None, 'xre...      Torpedo californica   \n",
              "4  [{'xref_id': 'P21836', 'xref_name': None, 'xre...             Mus musculus   \n",
              "\n",
              "                      pref_name  score  species_group_flag target_chembl_id  \\\n",
              "0          Acetylcholinesterase   27.0               False        CHEMBL220   \n",
              "1  Cholinesterases; ACHE & BCHE   27.0               False    CHEMBL2095233   \n",
              "2          Acetylcholinesterase   17.0               False    CHEMBL2242744   \n",
              "3          Acetylcholinesterase   15.0               False       CHEMBL4780   \n",
              "4          Acetylcholinesterase   15.0               False       CHEMBL3198   \n",
              "\n",
              "                                   target_components        target_type  \\\n",
              "0  [{'accession': 'P22303', 'component_descriptio...     SINGLE PROTEIN   \n",
              "1  [{'accession': 'P06276', 'component_descriptio...  SELECTIVITY GROUP   \n",
              "2  [{'accession': 'P07140', 'component_descriptio...     SINGLE PROTEIN   \n",
              "3  [{'accession': 'P04058', 'component_descriptio...     SINGLE PROTEIN   \n",
              "4  [{'accession': 'P21836', 'component_descriptio...     SINGLE PROTEIN   \n",
              "\n",
              "   tax_id  \n",
              "0    9606  \n",
              "1    9606  \n",
              "2    7227  \n",
              "3    7787  \n",
              "4   10090  "
            ],
            "text/html": [
              "\n",
              "  <div id=\"df-c6892679-f3de-4c52-90d5-dc9afa5b49b6\">\n",
              "    <div class=\"colab-df-container\">\n",
              "      <div>\n",
              "<style scoped>\n",
              "    .dataframe tbody tr th:only-of-type {\n",
              "        vertical-align: middle;\n",
              "    }\n",
              "\n",
              "    .dataframe tbody tr th {\n",
              "        vertical-align: top;\n",
              "    }\n",
              "\n",
              "    .dataframe thead th {\n",
              "        text-align: right;\n",
              "    }\n",
              "</style>\n",
              "<table border=\"1\" class=\"dataframe\">\n",
              "  <thead>\n",
              "    <tr style=\"text-align: right;\">\n",
              "      <th></th>\n",
              "      <th>cross_references</th>\n",
              "      <th>organism</th>\n",
              "      <th>pref_name</th>\n",
              "      <th>score</th>\n",
              "      <th>species_group_flag</th>\n",
              "      <th>target_chembl_id</th>\n",
              "      <th>target_components</th>\n",
              "      <th>target_type</th>\n",
              "      <th>tax_id</th>\n",
              "    </tr>\n",
              "  </thead>\n",
              "  <tbody>\n",
              "    <tr>\n",
              "      <th>0</th>\n",
              "      <td>[{'xref_id': 'P22303', 'xref_name': None, 'xre...</td>\n",
              "      <td>Homo sapiens</td>\n",
              "      <td>Acetylcholinesterase</td>\n",
              "      <td>27.0</td>\n",
              "      <td>False</td>\n",
              "      <td>CHEMBL220</td>\n",
              "      <td>[{'accession': 'P22303', 'component_descriptio...</td>\n",
              "      <td>SINGLE PROTEIN</td>\n",
              "      <td>9606</td>\n",
              "    </tr>\n",
              "    <tr>\n",
              "      <th>1</th>\n",
              "      <td>[]</td>\n",
              "      <td>Homo sapiens</td>\n",
              "      <td>Cholinesterases; ACHE &amp; BCHE</td>\n",
              "      <td>27.0</td>\n",
              "      <td>False</td>\n",
              "      <td>CHEMBL2095233</td>\n",
              "      <td>[{'accession': 'P06276', 'component_descriptio...</td>\n",
              "      <td>SELECTIVITY GROUP</td>\n",
              "      <td>9606</td>\n",
              "    </tr>\n",
              "    <tr>\n",
              "      <th>2</th>\n",
              "      <td>[]</td>\n",
              "      <td>Drosophila melanogaster</td>\n",
              "      <td>Acetylcholinesterase</td>\n",
              "      <td>17.0</td>\n",
              "      <td>False</td>\n",
              "      <td>CHEMBL2242744</td>\n",
              "      <td>[{'accession': 'P07140', 'component_descriptio...</td>\n",
              "      <td>SINGLE PROTEIN</td>\n",
              "      <td>7227</td>\n",
              "    </tr>\n",
              "    <tr>\n",
              "      <th>3</th>\n",
              "      <td>[{'xref_id': 'P04058', 'xref_name': None, 'xre...</td>\n",
              "      <td>Torpedo californica</td>\n",
              "      <td>Acetylcholinesterase</td>\n",
              "      <td>15.0</td>\n",
              "      <td>False</td>\n",
              "      <td>CHEMBL4780</td>\n",
              "      <td>[{'accession': 'P04058', 'component_descriptio...</td>\n",
              "      <td>SINGLE PROTEIN</td>\n",
              "      <td>7787</td>\n",
              "    </tr>\n",
              "    <tr>\n",
              "      <th>4</th>\n",
              "      <td>[{'xref_id': 'P21836', 'xref_name': None, 'xre...</td>\n",
              "      <td>Mus musculus</td>\n",
              "      <td>Acetylcholinesterase</td>\n",
              "      <td>15.0</td>\n",
              "      <td>False</td>\n",
              "      <td>CHEMBL3198</td>\n",
              "      <td>[{'accession': 'P21836', 'component_descriptio...</td>\n",
              "      <td>SINGLE PROTEIN</td>\n",
              "      <td>10090</td>\n",
              "    </tr>\n",
              "  </tbody>\n",
              "</table>\n",
              "</div>\n",
              "      <button class=\"colab-df-convert\" onclick=\"convertToInteractive('df-c6892679-f3de-4c52-90d5-dc9afa5b49b6')\"\n",
              "              title=\"Convert this dataframe to an interactive table.\"\n",
              "              style=\"display:none;\">\n",
              "        \n",
              "  <svg xmlns=\"http://www.w3.org/2000/svg\" height=\"24px\"viewBox=\"0 0 24 24\"\n",
              "       width=\"24px\">\n",
              "    <path d=\"M0 0h24v24H0V0z\" fill=\"none\"/>\n",
              "    <path d=\"M18.56 5.44l.94 2.06.94-2.06 2.06-.94-2.06-.94-.94-2.06-.94 2.06-2.06.94zm-11 1L8.5 8.5l.94-2.06 2.06-.94-2.06-.94L8.5 2.5l-.94 2.06-2.06.94zm10 10l.94 2.06.94-2.06 2.06-.94-2.06-.94-.94-2.06-.94 2.06-2.06.94z\"/><path d=\"M17.41 7.96l-1.37-1.37c-.4-.4-.92-.59-1.43-.59-.52 0-1.04.2-1.43.59L10.3 9.45l-7.72 7.72c-.78.78-.78 2.05 0 2.83L4 21.41c.39.39.9.59 1.41.59.51 0 1.02-.2 1.41-.59l7.78-7.78 2.81-2.81c.8-.78.8-2.07 0-2.86zM5.41 20L4 18.59l7.72-7.72 1.47 1.35L5.41 20z\"/>\n",
              "  </svg>\n",
              "      </button>\n",
              "      \n",
              "  <style>\n",
              "    .colab-df-container {\n",
              "      display:flex;\n",
              "      flex-wrap:wrap;\n",
              "      gap: 12px;\n",
              "    }\n",
              "\n",
              "    .colab-df-convert {\n",
              "      background-color: #E8F0FE;\n",
              "      border: none;\n",
              "      border-radius: 50%;\n",
              "      cursor: pointer;\n",
              "      display: none;\n",
              "      fill: #1967D2;\n",
              "      height: 32px;\n",
              "      padding: 0 0 0 0;\n",
              "      width: 32px;\n",
              "    }\n",
              "\n",
              "    .colab-df-convert:hover {\n",
              "      background-color: #E2EBFA;\n",
              "      box-shadow: 0px 1px 2px rgba(60, 64, 67, 0.3), 0px 1px 3px 1px rgba(60, 64, 67, 0.15);\n",
              "      fill: #174EA6;\n",
              "    }\n",
              "\n",
              "    [theme=dark] .colab-df-convert {\n",
              "      background-color: #3B4455;\n",
              "      fill: #D2E3FC;\n",
              "    }\n",
              "\n",
              "    [theme=dark] .colab-df-convert:hover {\n",
              "      background-color: #434B5C;\n",
              "      box-shadow: 0px 1px 3px 1px rgba(0, 0, 0, 0.15);\n",
              "      filter: drop-shadow(0px 1px 2px rgba(0, 0, 0, 0.3));\n",
              "      fill: #FFFFFF;\n",
              "    }\n",
              "  </style>\n",
              "\n",
              "      <script>\n",
              "        const buttonEl =\n",
              "          document.querySelector('#df-c6892679-f3de-4c52-90d5-dc9afa5b49b6 button.colab-df-convert');\n",
              "        buttonEl.style.display =\n",
              "          google.colab.kernel.accessAllowed ? 'block' : 'none';\n",
              "\n",
              "        async function convertToInteractive(key) {\n",
              "          const element = document.querySelector('#df-c6892679-f3de-4c52-90d5-dc9afa5b49b6');\n",
              "          const dataTable =\n",
              "            await google.colab.kernel.invokeFunction('convertToInteractive',\n",
              "                                                     [key], {});\n",
              "          if (!dataTable) return;\n",
              "\n",
              "          const docLinkHtml = 'Like what you see? Visit the ' +\n",
              "            '<a target=\"_blank\" href=https://colab.research.google.com/notebooks/data_table.ipynb>data table notebook</a>'\n",
              "            + ' to learn more about interactive tables.';\n",
              "          element.innerHTML = '';\n",
              "          dataTable['output_type'] = 'display_data';\n",
              "          await google.colab.output.renderOutput(dataTable, element);\n",
              "          const docLink = document.createElement('div');\n",
              "          docLink.innerHTML = docLinkHtml;\n",
              "          element.appendChild(docLink);\n",
              "        }\n",
              "      </script>\n",
              "    </div>\n",
              "  </div>\n",
              "  "
            ]
          },
          "metadata": {},
          "execution_count": 10
        }
      ]
    },
    {
      "cell_type": "markdown",
      "metadata": {
        "id": "gSQ3aroOgML7"
      },
      "source": [
        "- The search returns results from different species but we are interested in Humans; first row ie index 0. The column `target_chembl_id` contains unique IDs for each drug traget. The next line of code assign the ID of interest to a variable `target`."
      ]
    },
    {
      "cell_type": "code",
      "metadata": {
        "id": "StrcHMVLha7u",
        "outputId": "824a2b7c-b13d-4c1b-9a4c-6a10144ce580",
        "colab": {
          "base_uri": "https://localhost:8080/",
          "height": 35
        }
      },
      "source": [
        "target = targets.target_chembl_id[0]\n",
        "target"
      ],
      "execution_count": null,
      "outputs": [
        {
          "output_type": "execute_result",
          "data": {
            "text/plain": [
              "'CHEMBL220'"
            ],
            "application/vnd.google.colaboratory.intrinsic+json": {
              "type": "string"
            }
          },
          "metadata": {},
          "execution_count": 11
        }
      ]
    },
    {
      "cell_type": "markdown",
      "metadata": {
        "id": "GWd2DRalgjzB"
      },
      "source": [
        "- We access all bioactivity data using the `.activity` attribute\n",
        "- Then filter for the target chembl ID and only rows with IC$_{50}$ values. The database has other similar metrics.<br>\n",
        "\n",
        "#### What is IC$_{50}$?\n",
        "\n",
        "The IC$_{50}$, Half-maximal inhibitory concentration, is the most widely used metric of a drug's efficacy. It indicates how much drug is needed to inhibit a biological process by 50%, thus providing a measure of potency of an antagonist drug in pharmacological research.It is usually meassured in nM (nanomolar) unit ([*Aykul et al, 2016*](https://pubmed.ncbi.nlm.nih.gov/27365221/#:~:text=Half%2Dmaximal%20inhibitory%20concentration%20(IC50,antagonist%20drug%20in%20pharmacological%20research.)))."
      ]
    },
    {
      "cell_type": "code",
      "metadata": {
        "id": "LeFbV_CsSP8D",
        "colab": {
          "base_uri": "https://localhost:8080/",
          "height": 473
        },
        "outputId": "1bc6d885-0243-4881-8314-81acfb5879d6"
      },
      "source": [
        "activity = new_client.activity\n",
        "result = activity.filter(target_chembl_id=target).filter(standard_type=\"IC50\")\n",
        "df = pd.DataFrame.from_dict(result)\n",
        "df.head()"
      ],
      "execution_count": null,
      "outputs": [
        {
          "output_type": "execute_result",
          "data": {
            "text/plain": [
              "  activity_comment  activity_id activity_properties assay_chembl_id  \\\n",
              "0             None        33969                  []    CHEMBL643384   \n",
              "1             None        37563                  []    CHEMBL643384   \n",
              "2             None        37565                  []    CHEMBL643384   \n",
              "3             None        38902                  []    CHEMBL643384   \n",
              "4             None        41170                  []    CHEMBL643384   \n",
              "\n",
              "                                   assay_description assay_type  \\\n",
              "0  Inhibitory concentration against acetylcholine...          B   \n",
              "1  Inhibitory concentration against acetylcholine...          B   \n",
              "2  Inhibitory concentration against acetylcholine...          B   \n",
              "3  Inhibitory concentration against acetylcholine...          B   \n",
              "4  Inhibitory concentration against acetylcholine...          B   \n",
              "\n",
              "  assay_variant_accession assay_variant_mutation bao_endpoint   bao_format  \\\n",
              "0                    None                   None  BAO_0000190  BAO_0000357   \n",
              "1                    None                   None  BAO_0000190  BAO_0000357   \n",
              "2                    None                   None  BAO_0000190  BAO_0000357   \n",
              "3                    None                   None  BAO_0000190  BAO_0000357   \n",
              "4                    None                   None  BAO_0000190  BAO_0000357   \n",
              "\n",
              "   ... target_organism      target_pref_name target_tax_id text_value  toid  \\\n",
              "0  ...    Homo sapiens  Acetylcholinesterase          9606       None  None   \n",
              "1  ...    Homo sapiens  Acetylcholinesterase          9606       None  None   \n",
              "2  ...    Homo sapiens  Acetylcholinesterase          9606       None  None   \n",
              "3  ...    Homo sapiens  Acetylcholinesterase          9606       None  None   \n",
              "4  ...    Homo sapiens  Acetylcholinesterase          9606       None  None   \n",
              "\n",
              "   type  units    uo_units upper_value value  \n",
              "0  IC50     uM  UO_0000065        None  0.75  \n",
              "1  IC50     uM  UO_0000065        None   0.1  \n",
              "2  IC50     uM  UO_0000065        None  50.0  \n",
              "3  IC50     uM  UO_0000065        None   0.3  \n",
              "4  IC50     uM  UO_0000065        None   0.8  \n",
              "\n",
              "[5 rows x 45 columns]"
            ],
            "text/html": [
              "\n",
              "  <div id=\"df-ce00d56b-75ae-44f7-b3d5-a6e90080b56e\">\n",
              "    <div class=\"colab-df-container\">\n",
              "      <div>\n",
              "<style scoped>\n",
              "    .dataframe tbody tr th:only-of-type {\n",
              "        vertical-align: middle;\n",
              "    }\n",
              "\n",
              "    .dataframe tbody tr th {\n",
              "        vertical-align: top;\n",
              "    }\n",
              "\n",
              "    .dataframe thead th {\n",
              "        text-align: right;\n",
              "    }\n",
              "</style>\n",
              "<table border=\"1\" class=\"dataframe\">\n",
              "  <thead>\n",
              "    <tr style=\"text-align: right;\">\n",
              "      <th></th>\n",
              "      <th>activity_comment</th>\n",
              "      <th>activity_id</th>\n",
              "      <th>activity_properties</th>\n",
              "      <th>assay_chembl_id</th>\n",
              "      <th>assay_description</th>\n",
              "      <th>assay_type</th>\n",
              "      <th>assay_variant_accession</th>\n",
              "      <th>assay_variant_mutation</th>\n",
              "      <th>bao_endpoint</th>\n",
              "      <th>bao_format</th>\n",
              "      <th>...</th>\n",
              "      <th>target_organism</th>\n",
              "      <th>target_pref_name</th>\n",
              "      <th>target_tax_id</th>\n",
              "      <th>text_value</th>\n",
              "      <th>toid</th>\n",
              "      <th>type</th>\n",
              "      <th>units</th>\n",
              "      <th>uo_units</th>\n",
              "      <th>upper_value</th>\n",
              "      <th>value</th>\n",
              "    </tr>\n",
              "  </thead>\n",
              "  <tbody>\n",
              "    <tr>\n",
              "      <th>0</th>\n",
              "      <td>None</td>\n",
              "      <td>33969</td>\n",
              "      <td>[]</td>\n",
              "      <td>CHEMBL643384</td>\n",
              "      <td>Inhibitory concentration against acetylcholine...</td>\n",
              "      <td>B</td>\n",
              "      <td>None</td>\n",
              "      <td>None</td>\n",
              "      <td>BAO_0000190</td>\n",
              "      <td>BAO_0000357</td>\n",
              "      <td>...</td>\n",
              "      <td>Homo sapiens</td>\n",
              "      <td>Acetylcholinesterase</td>\n",
              "      <td>9606</td>\n",
              "      <td>None</td>\n",
              "      <td>None</td>\n",
              "      <td>IC50</td>\n",
              "      <td>uM</td>\n",
              "      <td>UO_0000065</td>\n",
              "      <td>None</td>\n",
              "      <td>0.75</td>\n",
              "    </tr>\n",
              "    <tr>\n",
              "      <th>1</th>\n",
              "      <td>None</td>\n",
              "      <td>37563</td>\n",
              "      <td>[]</td>\n",
              "      <td>CHEMBL643384</td>\n",
              "      <td>Inhibitory concentration against acetylcholine...</td>\n",
              "      <td>B</td>\n",
              "      <td>None</td>\n",
              "      <td>None</td>\n",
              "      <td>BAO_0000190</td>\n",
              "      <td>BAO_0000357</td>\n",
              "      <td>...</td>\n",
              "      <td>Homo sapiens</td>\n",
              "      <td>Acetylcholinesterase</td>\n",
              "      <td>9606</td>\n",
              "      <td>None</td>\n",
              "      <td>None</td>\n",
              "      <td>IC50</td>\n",
              "      <td>uM</td>\n",
              "      <td>UO_0000065</td>\n",
              "      <td>None</td>\n",
              "      <td>0.1</td>\n",
              "    </tr>\n",
              "    <tr>\n",
              "      <th>2</th>\n",
              "      <td>None</td>\n",
              "      <td>37565</td>\n",
              "      <td>[]</td>\n",
              "      <td>CHEMBL643384</td>\n",
              "      <td>Inhibitory concentration against acetylcholine...</td>\n",
              "      <td>B</td>\n",
              "      <td>None</td>\n",
              "      <td>None</td>\n",
              "      <td>BAO_0000190</td>\n",
              "      <td>BAO_0000357</td>\n",
              "      <td>...</td>\n",
              "      <td>Homo sapiens</td>\n",
              "      <td>Acetylcholinesterase</td>\n",
              "      <td>9606</td>\n",
              "      <td>None</td>\n",
              "      <td>None</td>\n",
              "      <td>IC50</td>\n",
              "      <td>uM</td>\n",
              "      <td>UO_0000065</td>\n",
              "      <td>None</td>\n",
              "      <td>50.0</td>\n",
              "    </tr>\n",
              "    <tr>\n",
              "      <th>3</th>\n",
              "      <td>None</td>\n",
              "      <td>38902</td>\n",
              "      <td>[]</td>\n",
              "      <td>CHEMBL643384</td>\n",
              "      <td>Inhibitory concentration against acetylcholine...</td>\n",
              "      <td>B</td>\n",
              "      <td>None</td>\n",
              "      <td>None</td>\n",
              "      <td>BAO_0000190</td>\n",
              "      <td>BAO_0000357</td>\n",
              "      <td>...</td>\n",
              "      <td>Homo sapiens</td>\n",
              "      <td>Acetylcholinesterase</td>\n",
              "      <td>9606</td>\n",
              "      <td>None</td>\n",
              "      <td>None</td>\n",
              "      <td>IC50</td>\n",
              "      <td>uM</td>\n",
              "      <td>UO_0000065</td>\n",
              "      <td>None</td>\n",
              "      <td>0.3</td>\n",
              "    </tr>\n",
              "    <tr>\n",
              "      <th>4</th>\n",
              "      <td>None</td>\n",
              "      <td>41170</td>\n",
              "      <td>[]</td>\n",
              "      <td>CHEMBL643384</td>\n",
              "      <td>Inhibitory concentration against acetylcholine...</td>\n",
              "      <td>B</td>\n",
              "      <td>None</td>\n",
              "      <td>None</td>\n",
              "      <td>BAO_0000190</td>\n",
              "      <td>BAO_0000357</td>\n",
              "      <td>...</td>\n",
              "      <td>Homo sapiens</td>\n",
              "      <td>Acetylcholinesterase</td>\n",
              "      <td>9606</td>\n",
              "      <td>None</td>\n",
              "      <td>None</td>\n",
              "      <td>IC50</td>\n",
              "      <td>uM</td>\n",
              "      <td>UO_0000065</td>\n",
              "      <td>None</td>\n",
              "      <td>0.8</td>\n",
              "    </tr>\n",
              "  </tbody>\n",
              "</table>\n",
              "<p>5 rows × 45 columns</p>\n",
              "</div>\n",
              "      <button class=\"colab-df-convert\" onclick=\"convertToInteractive('df-ce00d56b-75ae-44f7-b3d5-a6e90080b56e')\"\n",
              "              title=\"Convert this dataframe to an interactive table.\"\n",
              "              style=\"display:none;\">\n",
              "        \n",
              "  <svg xmlns=\"http://www.w3.org/2000/svg\" height=\"24px\"viewBox=\"0 0 24 24\"\n",
              "       width=\"24px\">\n",
              "    <path d=\"M0 0h24v24H0V0z\" fill=\"none\"/>\n",
              "    <path d=\"M18.56 5.44l.94 2.06.94-2.06 2.06-.94-2.06-.94-.94-2.06-.94 2.06-2.06.94zm-11 1L8.5 8.5l.94-2.06 2.06-.94-2.06-.94L8.5 2.5l-.94 2.06-2.06.94zm10 10l.94 2.06.94-2.06 2.06-.94-2.06-.94-.94-2.06-.94 2.06-2.06.94z\"/><path d=\"M17.41 7.96l-1.37-1.37c-.4-.4-.92-.59-1.43-.59-.52 0-1.04.2-1.43.59L10.3 9.45l-7.72 7.72c-.78.78-.78 2.05 0 2.83L4 21.41c.39.39.9.59 1.41.59.51 0 1.02-.2 1.41-.59l7.78-7.78 2.81-2.81c.8-.78.8-2.07 0-2.86zM5.41 20L4 18.59l7.72-7.72 1.47 1.35L5.41 20z\"/>\n",
              "  </svg>\n",
              "      </button>\n",
              "      \n",
              "  <style>\n",
              "    .colab-df-container {\n",
              "      display:flex;\n",
              "      flex-wrap:wrap;\n",
              "      gap: 12px;\n",
              "    }\n",
              "\n",
              "    .colab-df-convert {\n",
              "      background-color: #E8F0FE;\n",
              "      border: none;\n",
              "      border-radius: 50%;\n",
              "      cursor: pointer;\n",
              "      display: none;\n",
              "      fill: #1967D2;\n",
              "      height: 32px;\n",
              "      padding: 0 0 0 0;\n",
              "      width: 32px;\n",
              "    }\n",
              "\n",
              "    .colab-df-convert:hover {\n",
              "      background-color: #E2EBFA;\n",
              "      box-shadow: 0px 1px 2px rgba(60, 64, 67, 0.3), 0px 1px 3px 1px rgba(60, 64, 67, 0.15);\n",
              "      fill: #174EA6;\n",
              "    }\n",
              "\n",
              "    [theme=dark] .colab-df-convert {\n",
              "      background-color: #3B4455;\n",
              "      fill: #D2E3FC;\n",
              "    }\n",
              "\n",
              "    [theme=dark] .colab-df-convert:hover {\n",
              "      background-color: #434B5C;\n",
              "      box-shadow: 0px 1px 3px 1px rgba(0, 0, 0, 0.15);\n",
              "      filter: drop-shadow(0px 1px 2px rgba(0, 0, 0, 0.3));\n",
              "      fill: #FFFFFF;\n",
              "    }\n",
              "  </style>\n",
              "\n",
              "      <script>\n",
              "        const buttonEl =\n",
              "          document.querySelector('#df-ce00d56b-75ae-44f7-b3d5-a6e90080b56e button.colab-df-convert');\n",
              "        buttonEl.style.display =\n",
              "          google.colab.kernel.accessAllowed ? 'block' : 'none';\n",
              "\n",
              "        async function convertToInteractive(key) {\n",
              "          const element = document.querySelector('#df-ce00d56b-75ae-44f7-b3d5-a6e90080b56e');\n",
              "          const dataTable =\n",
              "            await google.colab.kernel.invokeFunction('convertToInteractive',\n",
              "                                                     [key], {});\n",
              "          if (!dataTable) return;\n",
              "\n",
              "          const docLinkHtml = 'Like what you see? Visit the ' +\n",
              "            '<a target=\"_blank\" href=https://colab.research.google.com/notebooks/data_table.ipynb>data table notebook</a>'\n",
              "            + ' to learn more about interactive tables.';\n",
              "          element.innerHTML = '';\n",
              "          dataTable['output_type'] = 'display_data';\n",
              "          await google.colab.output.renderOutput(dataTable, element);\n",
              "          const docLink = document.createElement('div');\n",
              "          docLink.innerHTML = docLinkHtml;\n",
              "          element.appendChild(docLink);\n",
              "        }\n",
              "      </script>\n",
              "    </div>\n",
              "  </div>\n",
              "  "
            ]
          },
          "metadata": {},
          "execution_count": 13
        }
      ]
    },
    {
      "cell_type": "markdown",
      "metadata": {
        "id": "_GXMpFNUOn_8"
      },
      "source": [
        "## **Data Wrangling**\n",
        "- The dataframe has 45 columns but only interested in 3 columns namely ; `molecule_chembl_id`, `canonical_smiles`, and `standard_value`."
      ]
    },
    {
      "cell_type": "code",
      "metadata": {
        "id": "hkVOdk6ZR396",
        "outputId": "bcdeea40-a67d-45f7-e401-99f68040b062",
        "colab": {
          "base_uri": "https://localhost:8080/",
          "height": 206
        }
      },
      "source": [
        "cols = ['molecule_chembl_id', 'canonical_smiles', 'standard_value']\n",
        "df = df[cols]\n",
        "df.head()"
      ],
      "execution_count": null,
      "outputs": [
        {
          "output_type": "execute_result",
          "data": {
            "text/plain": [
              "  molecule_chembl_id                                   canonical_smiles  \\\n",
              "0       CHEMBL133897              CCOc1nn(-c2cccc(OCc3ccccc3)c2)c(=O)o1   \n",
              "1       CHEMBL336398         O=C(N1CCCCC1)n1nc(-c2ccc(Cl)cc2)nc1SCC1CC1   \n",
              "2       CHEMBL131588  CN(C(=O)n1nc(-c2ccc(Cl)cc2)nc1SCC(F)(F)F)c1ccccc1   \n",
              "3       CHEMBL130628      O=C(N1CCCCC1)n1nc(-c2ccc(Cl)cc2)nc1SCC(F)(F)F   \n",
              "4       CHEMBL130478          CSc1nc(-c2ccc(OC(F)(F)F)cc2)nn1C(=O)N(C)C   \n",
              "\n",
              "  standard_value  \n",
              "0          750.0  \n",
              "1          100.0  \n",
              "2        50000.0  \n",
              "3          300.0  \n",
              "4          800.0  "
            ],
            "text/html": [
              "\n",
              "  <div id=\"df-ccb7e0d6-4c6d-4267-8c13-0a38924b6d6b\">\n",
              "    <div class=\"colab-df-container\">\n",
              "      <div>\n",
              "<style scoped>\n",
              "    .dataframe tbody tr th:only-of-type {\n",
              "        vertical-align: middle;\n",
              "    }\n",
              "\n",
              "    .dataframe tbody tr th {\n",
              "        vertical-align: top;\n",
              "    }\n",
              "\n",
              "    .dataframe thead th {\n",
              "        text-align: right;\n",
              "    }\n",
              "</style>\n",
              "<table border=\"1\" class=\"dataframe\">\n",
              "  <thead>\n",
              "    <tr style=\"text-align: right;\">\n",
              "      <th></th>\n",
              "      <th>molecule_chembl_id</th>\n",
              "      <th>canonical_smiles</th>\n",
              "      <th>standard_value</th>\n",
              "    </tr>\n",
              "  </thead>\n",
              "  <tbody>\n",
              "    <tr>\n",
              "      <th>0</th>\n",
              "      <td>CHEMBL133897</td>\n",
              "      <td>CCOc1nn(-c2cccc(OCc3ccccc3)c2)c(=O)o1</td>\n",
              "      <td>750.0</td>\n",
              "    </tr>\n",
              "    <tr>\n",
              "      <th>1</th>\n",
              "      <td>CHEMBL336398</td>\n",
              "      <td>O=C(N1CCCCC1)n1nc(-c2ccc(Cl)cc2)nc1SCC1CC1</td>\n",
              "      <td>100.0</td>\n",
              "    </tr>\n",
              "    <tr>\n",
              "      <th>2</th>\n",
              "      <td>CHEMBL131588</td>\n",
              "      <td>CN(C(=O)n1nc(-c2ccc(Cl)cc2)nc1SCC(F)(F)F)c1ccccc1</td>\n",
              "      <td>50000.0</td>\n",
              "    </tr>\n",
              "    <tr>\n",
              "      <th>3</th>\n",
              "      <td>CHEMBL130628</td>\n",
              "      <td>O=C(N1CCCCC1)n1nc(-c2ccc(Cl)cc2)nc1SCC(F)(F)F</td>\n",
              "      <td>300.0</td>\n",
              "    </tr>\n",
              "    <tr>\n",
              "      <th>4</th>\n",
              "      <td>CHEMBL130478</td>\n",
              "      <td>CSc1nc(-c2ccc(OC(F)(F)F)cc2)nn1C(=O)N(C)C</td>\n",
              "      <td>800.0</td>\n",
              "    </tr>\n",
              "  </tbody>\n",
              "</table>\n",
              "</div>\n",
              "      <button class=\"colab-df-convert\" onclick=\"convertToInteractive('df-ccb7e0d6-4c6d-4267-8c13-0a38924b6d6b')\"\n",
              "              title=\"Convert this dataframe to an interactive table.\"\n",
              "              style=\"display:none;\">\n",
              "        \n",
              "  <svg xmlns=\"http://www.w3.org/2000/svg\" height=\"24px\"viewBox=\"0 0 24 24\"\n",
              "       width=\"24px\">\n",
              "    <path d=\"M0 0h24v24H0V0z\" fill=\"none\"/>\n",
              "    <path d=\"M18.56 5.44l.94 2.06.94-2.06 2.06-.94-2.06-.94-.94-2.06-.94 2.06-2.06.94zm-11 1L8.5 8.5l.94-2.06 2.06-.94-2.06-.94L8.5 2.5l-.94 2.06-2.06.94zm10 10l.94 2.06.94-2.06 2.06-.94-2.06-.94-.94-2.06-.94 2.06-2.06.94z\"/><path d=\"M17.41 7.96l-1.37-1.37c-.4-.4-.92-.59-1.43-.59-.52 0-1.04.2-1.43.59L10.3 9.45l-7.72 7.72c-.78.78-.78 2.05 0 2.83L4 21.41c.39.39.9.59 1.41.59.51 0 1.02-.2 1.41-.59l7.78-7.78 2.81-2.81c.8-.78.8-2.07 0-2.86zM5.41 20L4 18.59l7.72-7.72 1.47 1.35L5.41 20z\"/>\n",
              "  </svg>\n",
              "      </button>\n",
              "      \n",
              "  <style>\n",
              "    .colab-df-container {\n",
              "      display:flex;\n",
              "      flex-wrap:wrap;\n",
              "      gap: 12px;\n",
              "    }\n",
              "\n",
              "    .colab-df-convert {\n",
              "      background-color: #E8F0FE;\n",
              "      border: none;\n",
              "      border-radius: 50%;\n",
              "      cursor: pointer;\n",
              "      display: none;\n",
              "      fill: #1967D2;\n",
              "      height: 32px;\n",
              "      padding: 0 0 0 0;\n",
              "      width: 32px;\n",
              "    }\n",
              "\n",
              "    .colab-df-convert:hover {\n",
              "      background-color: #E2EBFA;\n",
              "      box-shadow: 0px 1px 2px rgba(60, 64, 67, 0.3), 0px 1px 3px 1px rgba(60, 64, 67, 0.15);\n",
              "      fill: #174EA6;\n",
              "    }\n",
              "\n",
              "    [theme=dark] .colab-df-convert {\n",
              "      background-color: #3B4455;\n",
              "      fill: #D2E3FC;\n",
              "    }\n",
              "\n",
              "    [theme=dark] .colab-df-convert:hover {\n",
              "      background-color: #434B5C;\n",
              "      box-shadow: 0px 1px 3px 1px rgba(0, 0, 0, 0.15);\n",
              "      filter: drop-shadow(0px 1px 2px rgba(0, 0, 0, 0.3));\n",
              "      fill: #FFFFFF;\n",
              "    }\n",
              "  </style>\n",
              "\n",
              "      <script>\n",
              "        const buttonEl =\n",
              "          document.querySelector('#df-ccb7e0d6-4c6d-4267-8c13-0a38924b6d6b button.colab-df-convert');\n",
              "        buttonEl.style.display =\n",
              "          google.colab.kernel.accessAllowed ? 'block' : 'none';\n",
              "\n",
              "        async function convertToInteractive(key) {\n",
              "          const element = document.querySelector('#df-ccb7e0d6-4c6d-4267-8c13-0a38924b6d6b');\n",
              "          const dataTable =\n",
              "            await google.colab.kernel.invokeFunction('convertToInteractive',\n",
              "                                                     [key], {});\n",
              "          if (!dataTable) return;\n",
              "\n",
              "          const docLinkHtml = 'Like what you see? Visit the ' +\n",
              "            '<a target=\"_blank\" href=https://colab.research.google.com/notebooks/data_table.ipynb>data table notebook</a>'\n",
              "            + ' to learn more about interactive tables.';\n",
              "          element.innerHTML = '';\n",
              "          dataTable['output_type'] = 'display_data';\n",
              "          await google.colab.output.renderOutput(dataTable, element);\n",
              "          const docLink = document.createElement('div');\n",
              "          docLink.innerHTML = docLinkHtml;\n",
              "          element.appendChild(docLink);\n",
              "        }\n",
              "      </script>\n",
              "    </div>\n",
              "  </div>\n",
              "  "
            ]
          },
          "metadata": {},
          "execution_count": 14
        }
      ]
    },
    {
      "cell_type": "markdown",
      "source": [
        "- Check for missing values"
      ],
      "metadata": {
        "id": "6Ef1VK-l1Kag"
      }
    },
    {
      "cell_type": "code",
      "source": [
        "df.isnull().sum()"
      ],
      "metadata": {
        "colab": {
          "base_uri": "https://localhost:8080/"
        },
        "id": "Cpy8ujWx1IsP",
        "outputId": "139dbc61-a4ed-4439-9d39-b32089b26cda"
      },
      "execution_count": null,
      "outputs": [
        {
          "output_type": "execute_result",
          "data": {
            "text/plain": [
              "molecule_chembl_id       0\n",
              "canonical_smiles        35\n",
              "standard_value        1256\n",
              "dtype: int64"
            ]
          },
          "metadata": {},
          "execution_count": 15
        }
      ]
    },
    {
      "cell_type": "markdown",
      "source": [
        "- As shown above, there are two columns with null values.\n",
        "- `dropna()` drops all rows with missing values.\n",
        "- `inplace=True` indicates that we want to modify `df`, otherwise, we would have assigned it to a new variable."
      ],
      "metadata": {
        "id": "YxPch7XI1l4U"
      }
    },
    {
      "cell_type": "code",
      "source": [
        "df.dropna(inplace=True)"
      ],
      "metadata": {
        "id": "mXAC7EBa1wWM"
      },
      "execution_count": null,
      "outputs": []
    },
    {
      "cell_type": "markdown",
      "source": [
        "- Check for duplicates by\n",
        "- first, getting the dimension of df"
      ],
      "metadata": {
        "id": "_hdbNIBh2SAu"
      }
    },
    {
      "cell_type": "code",
      "source": [
        "df.shape"
      ],
      "metadata": {
        "colab": {
          "base_uri": "https://localhost:8080/"
        },
        "id": "AjwWcPH_1wHJ",
        "outputId": "82682ba4-7852-484e-8b50-18d1bfbfd25e"
      },
      "execution_count": null,
      "outputs": [
        {
          "output_type": "execute_result",
          "data": {
            "text/plain": [
              "(6947, 3)"
            ]
          },
          "metadata": {},
          "execution_count": 19
        }
      ]
    },
    {
      "cell_type": "markdown",
      "source": [
        "- then, checking the number of unique rows"
      ],
      "metadata": {
        "id": "MvSRcyBQ27jB"
      }
    },
    {
      "cell_type": "code",
      "source": [
        "len(df.molecule_chembl_id.unique())"
      ],
      "metadata": {
        "colab": {
          "base_uri": "https://localhost:8080/"
        },
        "id": "MJEJpW9O1v_-",
        "outputId": "26143aa4-2ab1-4bc9-8f6d-91d18dc4c9a3"
      },
      "execution_count": null,
      "outputs": [
        {
          "output_type": "execute_result",
          "data": {
            "text/plain": [
              "5665"
            ]
          },
          "metadata": {},
          "execution_count": 20
        }
      ]
    },
    {
      "cell_type": "code",
      "source": [
        "len(df.canonical_smiles.unique())"
      ],
      "metadata": {
        "colab": {
          "base_uri": "https://localhost:8080/"
        },
        "id": "3GEZDa6B1vhn",
        "outputId": "9834fbc2-da31-4de7-f005-ab92891f11ab"
      },
      "execution_count": null,
      "outputs": [
        {
          "output_type": "execute_result",
          "data": {
            "text/plain": [
              "5664"
            ]
          },
          "metadata": {},
          "execution_count": 21
        }
      ]
    },
    {
      "cell_type": "markdown",
      "source": [
        "- The number of unique rows is less than number of total rows suggesting we have duplicate values.\n",
        "- the `drop_duplicates()` method drops all duplicate rows"
      ],
      "metadata": {
        "id": "Gk6Ng03a3s82"
      }
    },
    {
      "cell_type": "code",
      "source": [
        "df = df.drop_duplicates(subset=['molecule_chembl_id', 'canonical_smiles'])"
      ],
      "metadata": {
        "id": "u12O7wNU4PCP"
      },
      "execution_count": null,
      "outputs": []
    },
    {
      "cell_type": "markdown",
      "source": [
        "- get shape again for sanity check"
      ],
      "metadata": {
        "id": "czW0VfEMY078"
      }
    },
    {
      "cell_type": "code",
      "source": [
        "df.shape"
      ],
      "metadata": {
        "colab": {
          "base_uri": "https://localhost:8080/"
        },
        "id": "-v430c6m50cL",
        "outputId": "a673f769-9e1c-46fd-b0cd-ce146c200128"
      },
      "execution_count": null,
      "outputs": [
        {
          "output_type": "execute_result",
          "data": {
            "text/plain": [
              "(5665, 3)"
            ]
          },
          "metadata": {},
          "execution_count": 23
        }
      ]
    },
    {
      "cell_type": "markdown",
      "source": [
        "- After dropping rows, the indexes are now altered. `reset_index()` reorder them."
      ],
      "metadata": {
        "id": "gyTpMZwfZES4"
      }
    },
    {
      "cell_type": "code",
      "source": [
        "df = df.reset_index(drop=True)"
      ],
      "metadata": {
        "id": "vsbLzYRWjWnK"
      },
      "execution_count": null,
      "outputs": []
    },
    {
      "cell_type": "markdown",
      "metadata": {
        "id": "tO22XVlzhkXR"
      },
      "source": [
        "- From the data so far, the most obvious machine learning task will be to predict the standard value (IC50), which will be a regression model since the column contain continous data.\n",
        "- However, the task can be simplified into a binary classification, namely, if a drug is active against the target or not. This might be more useful for our drug discovery goal(my opinion)??.\n",
        "- But first, we need to add such a categorical column to the df. And a set a cutoff value to separate active from inactive compound. (Not sure of the best cutoff???)\n",
        "- I consider compounds having values of less than 1000 nM to be **active** and the rest, **inactive**. "
      ]
    },
    {
      "cell_type": "code",
      "metadata": {
        "id": "1E8rz7oMOd-5",
        "colab": {
          "base_uri": "https://localhost:8080/",
          "height": 206
        },
        "outputId": "c07cb66a-dfca-464c-afa6-cf1388060b11"
      },
      "source": [
        "df['bioactivity'] = df['standard_value'].apply(lambda x: 'active' if float(x) <= 1000 else 'inactive')\n",
        "df.head()"
      ],
      "execution_count": null,
      "outputs": [
        {
          "output_type": "execute_result",
          "data": {
            "text/plain": [
              "  molecule_chembl_id                                   canonical_smiles  \\\n",
              "0       CHEMBL133897              CCOc1nn(-c2cccc(OCc3ccccc3)c2)c(=O)o1   \n",
              "1       CHEMBL336398         O=C(N1CCCCC1)n1nc(-c2ccc(Cl)cc2)nc1SCC1CC1   \n",
              "2       CHEMBL131588  CN(C(=O)n1nc(-c2ccc(Cl)cc2)nc1SCC(F)(F)F)c1ccccc1   \n",
              "3       CHEMBL130628      O=C(N1CCCCC1)n1nc(-c2ccc(Cl)cc2)nc1SCC(F)(F)F   \n",
              "4       CHEMBL130478          CSc1nc(-c2ccc(OC(F)(F)F)cc2)nn1C(=O)N(C)C   \n",
              "\n",
              "  standard_value bioactivity  \n",
              "0          750.0      active  \n",
              "1          100.0      active  \n",
              "2        50000.0    inactive  \n",
              "3          300.0      active  \n",
              "4          800.0      active  "
            ],
            "text/html": [
              "\n",
              "  <div id=\"df-1b421b0f-3f71-45bb-b49d-aa8c1c2f1c5f\">\n",
              "    <div class=\"colab-df-container\">\n",
              "      <div>\n",
              "<style scoped>\n",
              "    .dataframe tbody tr th:only-of-type {\n",
              "        vertical-align: middle;\n",
              "    }\n",
              "\n",
              "    .dataframe tbody tr th {\n",
              "        vertical-align: top;\n",
              "    }\n",
              "\n",
              "    .dataframe thead th {\n",
              "        text-align: right;\n",
              "    }\n",
              "</style>\n",
              "<table border=\"1\" class=\"dataframe\">\n",
              "  <thead>\n",
              "    <tr style=\"text-align: right;\">\n",
              "      <th></th>\n",
              "      <th>molecule_chembl_id</th>\n",
              "      <th>canonical_smiles</th>\n",
              "      <th>standard_value</th>\n",
              "      <th>bioactivity</th>\n",
              "    </tr>\n",
              "  </thead>\n",
              "  <tbody>\n",
              "    <tr>\n",
              "      <th>0</th>\n",
              "      <td>CHEMBL133897</td>\n",
              "      <td>CCOc1nn(-c2cccc(OCc3ccccc3)c2)c(=O)o1</td>\n",
              "      <td>750.0</td>\n",
              "      <td>active</td>\n",
              "    </tr>\n",
              "    <tr>\n",
              "      <th>1</th>\n",
              "      <td>CHEMBL336398</td>\n",
              "      <td>O=C(N1CCCCC1)n1nc(-c2ccc(Cl)cc2)nc1SCC1CC1</td>\n",
              "      <td>100.0</td>\n",
              "      <td>active</td>\n",
              "    </tr>\n",
              "    <tr>\n",
              "      <th>2</th>\n",
              "      <td>CHEMBL131588</td>\n",
              "      <td>CN(C(=O)n1nc(-c2ccc(Cl)cc2)nc1SCC(F)(F)F)c1ccccc1</td>\n",
              "      <td>50000.0</td>\n",
              "      <td>inactive</td>\n",
              "    </tr>\n",
              "    <tr>\n",
              "      <th>3</th>\n",
              "      <td>CHEMBL130628</td>\n",
              "      <td>O=C(N1CCCCC1)n1nc(-c2ccc(Cl)cc2)nc1SCC(F)(F)F</td>\n",
              "      <td>300.0</td>\n",
              "      <td>active</td>\n",
              "    </tr>\n",
              "    <tr>\n",
              "      <th>4</th>\n",
              "      <td>CHEMBL130478</td>\n",
              "      <td>CSc1nc(-c2ccc(OC(F)(F)F)cc2)nn1C(=O)N(C)C</td>\n",
              "      <td>800.0</td>\n",
              "      <td>active</td>\n",
              "    </tr>\n",
              "  </tbody>\n",
              "</table>\n",
              "</div>\n",
              "      <button class=\"colab-df-convert\" onclick=\"convertToInteractive('df-1b421b0f-3f71-45bb-b49d-aa8c1c2f1c5f')\"\n",
              "              title=\"Convert this dataframe to an interactive table.\"\n",
              "              style=\"display:none;\">\n",
              "        \n",
              "  <svg xmlns=\"http://www.w3.org/2000/svg\" height=\"24px\"viewBox=\"0 0 24 24\"\n",
              "       width=\"24px\">\n",
              "    <path d=\"M0 0h24v24H0V0z\" fill=\"none\"/>\n",
              "    <path d=\"M18.56 5.44l.94 2.06.94-2.06 2.06-.94-2.06-.94-.94-2.06-.94 2.06-2.06.94zm-11 1L8.5 8.5l.94-2.06 2.06-.94-2.06-.94L8.5 2.5l-.94 2.06-2.06.94zm10 10l.94 2.06.94-2.06 2.06-.94-2.06-.94-.94-2.06-.94 2.06-2.06.94z\"/><path d=\"M17.41 7.96l-1.37-1.37c-.4-.4-.92-.59-1.43-.59-.52 0-1.04.2-1.43.59L10.3 9.45l-7.72 7.72c-.78.78-.78 2.05 0 2.83L4 21.41c.39.39.9.59 1.41.59.51 0 1.02-.2 1.41-.59l7.78-7.78 2.81-2.81c.8-.78.8-2.07 0-2.86zM5.41 20L4 18.59l7.72-7.72 1.47 1.35L5.41 20z\"/>\n",
              "  </svg>\n",
              "      </button>\n",
              "      \n",
              "  <style>\n",
              "    .colab-df-container {\n",
              "      display:flex;\n",
              "      flex-wrap:wrap;\n",
              "      gap: 12px;\n",
              "    }\n",
              "\n",
              "    .colab-df-convert {\n",
              "      background-color: #E8F0FE;\n",
              "      border: none;\n",
              "      border-radius: 50%;\n",
              "      cursor: pointer;\n",
              "      display: none;\n",
              "      fill: #1967D2;\n",
              "      height: 32px;\n",
              "      padding: 0 0 0 0;\n",
              "      width: 32px;\n",
              "    }\n",
              "\n",
              "    .colab-df-convert:hover {\n",
              "      background-color: #E2EBFA;\n",
              "      box-shadow: 0px 1px 2px rgba(60, 64, 67, 0.3), 0px 1px 3px 1px rgba(60, 64, 67, 0.15);\n",
              "      fill: #174EA6;\n",
              "    }\n",
              "\n",
              "    [theme=dark] .colab-df-convert {\n",
              "      background-color: #3B4455;\n",
              "      fill: #D2E3FC;\n",
              "    }\n",
              "\n",
              "    [theme=dark] .colab-df-convert:hover {\n",
              "      background-color: #434B5C;\n",
              "      box-shadow: 0px 1px 3px 1px rgba(0, 0, 0, 0.15);\n",
              "      filter: drop-shadow(0px 1px 2px rgba(0, 0, 0, 0.3));\n",
              "      fill: #FFFFFF;\n",
              "    }\n",
              "  </style>\n",
              "\n",
              "      <script>\n",
              "        const buttonEl =\n",
              "          document.querySelector('#df-1b421b0f-3f71-45bb-b49d-aa8c1c2f1c5f button.colab-df-convert');\n",
              "        buttonEl.style.display =\n",
              "          google.colab.kernel.accessAllowed ? 'block' : 'none';\n",
              "\n",
              "        async function convertToInteractive(key) {\n",
              "          const element = document.querySelector('#df-1b421b0f-3f71-45bb-b49d-aa8c1c2f1c5f');\n",
              "          const dataTable =\n",
              "            await google.colab.kernel.invokeFunction('convertToInteractive',\n",
              "                                                     [key], {});\n",
              "          if (!dataTable) return;\n",
              "\n",
              "          const docLinkHtml = 'Like what you see? Visit the ' +\n",
              "            '<a target=\"_blank\" href=https://colab.research.google.com/notebooks/data_table.ipynb>data table notebook</a>'\n",
              "            + ' to learn more about interactive tables.';\n",
              "          element.innerHTML = '';\n",
              "          dataTable['output_type'] = 'display_data';\n",
              "          await google.colab.output.renderOutput(dataTable, element);\n",
              "          const docLink = document.createElement('div');\n",
              "          docLink.innerHTML = docLinkHtml;\n",
              "          element.appendChild(docLink);\n",
              "        }\n",
              "      </script>\n",
              "    </div>\n",
              "  </div>\n",
              "  "
            ]
          },
          "metadata": {},
          "execution_count": 29
        }
      ]
    },
    {
      "cell_type": "markdown",
      "source": [
        ""
      ],
      "metadata": {
        "id": "PjOTgIdhHRQ5"
      }
    },
    {
      "cell_type": "markdown",
      "source": [
        "- One more sanity check to make sure there're no missing values and codes worked as intended so far."
      ],
      "metadata": {
        "id": "L4TTO6rpjMKS"
      }
    },
    {
      "cell_type": "code",
      "source": [
        "df.isnull().sum()"
      ],
      "metadata": {
        "colab": {
          "base_uri": "https://localhost:8080/"
        },
        "id": "eqq67kbIMJU5",
        "outputId": "c070f68d-4033-4aed-98ed-d715cb89375a"
      },
      "execution_count": null,
      "outputs": [
        {
          "output_type": "execute_result",
          "data": {
            "text/plain": [
              "molecule_chembl_id    0\n",
              "canonical_smiles      0\n",
              "standard_value        0\n",
              "bioactivity           0\n",
              "dtype: int64"
            ]
          },
          "metadata": {},
          "execution_count": 13
        }
      ]
    },
    {
      "cell_type": "markdown",
      "source": [
        "- Take a look at the distribution of `standard_value` (IC50)"
      ],
      "metadata": {
        "id": "KfY8D8c0j5zP"
      }
    },
    {
      "cell_type": "code",
      "source": [
        "df.standard_value.describe()"
      ],
      "metadata": {
        "colab": {
          "base_uri": "https://localhost:8080/"
        },
        "id": "WPvd1Lau-86l",
        "outputId": "4e453d10-a09c-42a8-cac8-cddbe19d7ec5"
      },
      "execution_count": null,
      "outputs": [
        {
          "output_type": "execute_result",
          "data": {
            "text/plain": [
              "count    5.665000e+03\n",
              "mean     2.661134e+12\n",
              "std      1.083006e+14\n",
              "min      0.000000e+00\n",
              "25%      1.430000e+02\n",
              "50%      2.360000e+03\n",
              "75%      1.700000e+04\n",
              "max      5.888437e+15\n",
              "Name: standard_value, dtype: float64"
            ]
          },
          "metadata": {},
          "execution_count": 8
        }
      ]
    },
    {
      "cell_type": "markdown",
      "source": [
        "- The range of values are too wide apart. Machine learning models perform better on small scales. This can be fixed by taking the -log10(IC50) in Molars. The resulting value is known as the [**pIC50**](https://www.collaborativedrug.com/what-is-pic50-2/#:~:text=Simply%20stated%2C%20pIC50%20is%20the,is%20a%20pIC50%20of%209.).\n",
        "-  since **IC50** is given in nM, it is coverted to M by multiplying by 10^-9.\n",
        "- In addition, values > 10^8 will be fixed at 10^8 otherwise the -log10 will return a negative value,\n",
        "- lastly, 1 will be added to all values to avoid computing log0 and returning NaN. The value 1 is insignificant on a logorithmic scale."
      ],
      "metadata": {
        "id": "Ji2Oi8F3Cv6z"
      }
    },
    {
      "cell_type": "code",
      "source": [
        "df[\"standard_value\"] = df[\"standard_value\"].apply(lambda x: 100000000 if x > 100000000 else x + 1)\n",
        "df.standard_value.describe()"
      ],
      "metadata": {
        "colab": {
          "base_uri": "https://localhost:8080/"
        },
        "id": "anoZlQ4lFVRB",
        "outputId": "b9a98fda-8224-4edf-a1d2-6d859b978490"
      },
      "execution_count": null,
      "outputs": [
        {
          "output_type": "execute_result",
          "data": {
            "text/plain": [
              "count    5.665000e+03\n",
              "mean     2.858802e+05\n",
              "std      4.300859e+06\n",
              "min      1.000000e+00\n",
              "25%      1.440000e+02\n",
              "50%      2.361000e+03\n",
              "75%      1.700100e+04\n",
              "max      1.000000e+08\n",
              "Name: standard_value, dtype: float64"
            ]
          },
          "metadata": {},
          "execution_count": 15
        }
      ]
    },
    {
      "cell_type": "code",
      "source": [
        "import numpy as np\n",
        "df[\"pIC50\"] = df[\"standard_value\"].apply(lambda x: -np.log10(x * (10**-9)))\n",
        "df.pIC50.describe()"
      ],
      "metadata": {
        "colab": {
          "base_uri": "https://localhost:8080/"
        },
        "id": "t35-jh-ANbVG",
        "outputId": "215d9fb6-0633-4c5a-bb55-847bd8631cde"
      },
      "execution_count": null,
      "outputs": [
        {
          "output_type": "execute_result",
          "data": {
            "text/plain": [
              "count    5665.000000\n",
              "mean        5.777927\n",
              "std         1.467853\n",
              "min         1.000000\n",
              "25%         4.769526\n",
              "50%         5.626904\n",
              "75%         6.841638\n",
              "max         9.000000\n",
              "Name: pIC50, dtype: float64"
            ]
          },
          "metadata": {},
          "execution_count": 16
        }
      ]
    },
    {
      "cell_type": "markdown",
      "source": [
        "- Map Bioactivity into 1 and 0 since machine learning algorithms understand only numbers."
      ],
      "metadata": {
        "id": "kFJIY5jAOLGq"
      }
    },
    {
      "cell_type": "code",
      "source": [
        "df[\"bioactivity\"] = df[\"bioactivity\"].map({\"active\":1, \"inactive\":0})"
      ],
      "metadata": {
        "id": "o0M9niyqPnNh"
      },
      "execution_count": null,
      "outputs": []
    },
    {
      "cell_type": "markdown",
      "source": [
        "- No need to keep the `standard_value` column. I'm happy to drop it. `bioactivity` and `pIC50` are the targets for classification and regression models respectively."
      ],
      "metadata": {
        "id": "MOAhJfD2q3Iw"
      }
    },
    {
      "cell_type": "code",
      "source": [
        "df.drop('standard_value', axis = 1, inplace=True)\n",
        "df.head()"
      ],
      "metadata": {
        "colab": {
          "base_uri": "https://localhost:8080/",
          "height": 206
        },
        "id": "EthRek-QWgz0",
        "outputId": "7d5bbf12-6764-4317-cab4-fe6871f3fd1c"
      },
      "execution_count": null,
      "outputs": [
        {
          "output_type": "execute_result",
          "data": {
            "text/plain": [
              "  molecule_chembl_id                                   canonical_smiles  \\\n",
              "0       CHEMBL133897              CCOc1nn(-c2cccc(OCc3ccccc3)c2)c(=O)o1   \n",
              "1       CHEMBL336398         O=C(N1CCCCC1)n1nc(-c2ccc(Cl)cc2)nc1SCC1CC1   \n",
              "2       CHEMBL131588  CN(C(=O)n1nc(-c2ccc(Cl)cc2)nc1SCC(F)(F)F)c1ccccc1   \n",
              "3       CHEMBL130628      O=C(N1CCCCC1)n1nc(-c2ccc(Cl)cc2)nc1SCC(F)(F)F   \n",
              "4       CHEMBL130478          CSc1nc(-c2ccc(OC(F)(F)F)cc2)nn1C(=O)N(C)C   \n",
              "\n",
              "   bioactivity     pIC50  \n",
              "0            1  6.124360  \n",
              "1            1  6.995679  \n",
              "2            0  4.301021  \n",
              "3            1  6.521434  \n",
              "4            1  6.096367  "
            ],
            "text/html": [
              "\n",
              "  <div id=\"df-17b0aeda-9ee1-4a13-bd12-58e8cca0bf9f\">\n",
              "    <div class=\"colab-df-container\">\n",
              "      <div>\n",
              "<style scoped>\n",
              "    .dataframe tbody tr th:only-of-type {\n",
              "        vertical-align: middle;\n",
              "    }\n",
              "\n",
              "    .dataframe tbody tr th {\n",
              "        vertical-align: top;\n",
              "    }\n",
              "\n",
              "    .dataframe thead th {\n",
              "        text-align: right;\n",
              "    }\n",
              "</style>\n",
              "<table border=\"1\" class=\"dataframe\">\n",
              "  <thead>\n",
              "    <tr style=\"text-align: right;\">\n",
              "      <th></th>\n",
              "      <th>molecule_chembl_id</th>\n",
              "      <th>canonical_smiles</th>\n",
              "      <th>bioactivity</th>\n",
              "      <th>pIC50</th>\n",
              "    </tr>\n",
              "  </thead>\n",
              "  <tbody>\n",
              "    <tr>\n",
              "      <th>0</th>\n",
              "      <td>CHEMBL133897</td>\n",
              "      <td>CCOc1nn(-c2cccc(OCc3ccccc3)c2)c(=O)o1</td>\n",
              "      <td>1</td>\n",
              "      <td>6.124360</td>\n",
              "    </tr>\n",
              "    <tr>\n",
              "      <th>1</th>\n",
              "      <td>CHEMBL336398</td>\n",
              "      <td>O=C(N1CCCCC1)n1nc(-c2ccc(Cl)cc2)nc1SCC1CC1</td>\n",
              "      <td>1</td>\n",
              "      <td>6.995679</td>\n",
              "    </tr>\n",
              "    <tr>\n",
              "      <th>2</th>\n",
              "      <td>CHEMBL131588</td>\n",
              "      <td>CN(C(=O)n1nc(-c2ccc(Cl)cc2)nc1SCC(F)(F)F)c1ccccc1</td>\n",
              "      <td>0</td>\n",
              "      <td>4.301021</td>\n",
              "    </tr>\n",
              "    <tr>\n",
              "      <th>3</th>\n",
              "      <td>CHEMBL130628</td>\n",
              "      <td>O=C(N1CCCCC1)n1nc(-c2ccc(Cl)cc2)nc1SCC(F)(F)F</td>\n",
              "      <td>1</td>\n",
              "      <td>6.521434</td>\n",
              "    </tr>\n",
              "    <tr>\n",
              "      <th>4</th>\n",
              "      <td>CHEMBL130478</td>\n",
              "      <td>CSc1nc(-c2ccc(OC(F)(F)F)cc2)nn1C(=O)N(C)C</td>\n",
              "      <td>1</td>\n",
              "      <td>6.096367</td>\n",
              "    </tr>\n",
              "  </tbody>\n",
              "</table>\n",
              "</div>\n",
              "      <button class=\"colab-df-convert\" onclick=\"convertToInteractive('df-17b0aeda-9ee1-4a13-bd12-58e8cca0bf9f')\"\n",
              "              title=\"Convert this dataframe to an interactive table.\"\n",
              "              style=\"display:none;\">\n",
              "        \n",
              "  <svg xmlns=\"http://www.w3.org/2000/svg\" height=\"24px\"viewBox=\"0 0 24 24\"\n",
              "       width=\"24px\">\n",
              "    <path d=\"M0 0h24v24H0V0z\" fill=\"none\"/>\n",
              "    <path d=\"M18.56 5.44l.94 2.06.94-2.06 2.06-.94-2.06-.94-.94-2.06-.94 2.06-2.06.94zm-11 1L8.5 8.5l.94-2.06 2.06-.94-2.06-.94L8.5 2.5l-.94 2.06-2.06.94zm10 10l.94 2.06.94-2.06 2.06-.94-2.06-.94-.94-2.06-.94 2.06-2.06.94z\"/><path d=\"M17.41 7.96l-1.37-1.37c-.4-.4-.92-.59-1.43-.59-.52 0-1.04.2-1.43.59L10.3 9.45l-7.72 7.72c-.78.78-.78 2.05 0 2.83L4 21.41c.39.39.9.59 1.41.59.51 0 1.02-.2 1.41-.59l7.78-7.78 2.81-2.81c.8-.78.8-2.07 0-2.86zM5.41 20L4 18.59l7.72-7.72 1.47 1.35L5.41 20z\"/>\n",
              "  </svg>\n",
              "      </button>\n",
              "      \n",
              "  <style>\n",
              "    .colab-df-container {\n",
              "      display:flex;\n",
              "      flex-wrap:wrap;\n",
              "      gap: 12px;\n",
              "    }\n",
              "\n",
              "    .colab-df-convert {\n",
              "      background-color: #E8F0FE;\n",
              "      border: none;\n",
              "      border-radius: 50%;\n",
              "      cursor: pointer;\n",
              "      display: none;\n",
              "      fill: #1967D2;\n",
              "      height: 32px;\n",
              "      padding: 0 0 0 0;\n",
              "      width: 32px;\n",
              "    }\n",
              "\n",
              "    .colab-df-convert:hover {\n",
              "      background-color: #E2EBFA;\n",
              "      box-shadow: 0px 1px 2px rgba(60, 64, 67, 0.3), 0px 1px 3px 1px rgba(60, 64, 67, 0.15);\n",
              "      fill: #174EA6;\n",
              "    }\n",
              "\n",
              "    [theme=dark] .colab-df-convert {\n",
              "      background-color: #3B4455;\n",
              "      fill: #D2E3FC;\n",
              "    }\n",
              "\n",
              "    [theme=dark] .colab-df-convert:hover {\n",
              "      background-color: #434B5C;\n",
              "      box-shadow: 0px 1px 3px 1px rgba(0, 0, 0, 0.15);\n",
              "      filter: drop-shadow(0px 1px 2px rgba(0, 0, 0, 0.3));\n",
              "      fill: #FFFFFF;\n",
              "    }\n",
              "  </style>\n",
              "\n",
              "      <script>\n",
              "        const buttonEl =\n",
              "          document.querySelector('#df-17b0aeda-9ee1-4a13-bd12-58e8cca0bf9f button.colab-df-convert');\n",
              "        buttonEl.style.display =\n",
              "          google.colab.kernel.accessAllowed ? 'block' : 'none';\n",
              "\n",
              "        async function convertToInteractive(key) {\n",
              "          const element = document.querySelector('#df-17b0aeda-9ee1-4a13-bd12-58e8cca0bf9f');\n",
              "          const dataTable =\n",
              "            await google.colab.kernel.invokeFunction('convertToInteractive',\n",
              "                                                     [key], {});\n",
              "          if (!dataTable) return;\n",
              "\n",
              "          const docLinkHtml = 'Like what you see? Visit the ' +\n",
              "            '<a target=\"_blank\" href=https://colab.research.google.com/notebooks/data_table.ipynb>data table notebook</a>'\n",
              "            + ' to learn more about interactive tables.';\n",
              "          element.innerHTML = '';\n",
              "          dataTable['output_type'] = 'display_data';\n",
              "          await google.colab.output.renderOutput(dataTable, element);\n",
              "          const docLink = document.createElement('div');\n",
              "          docLink.innerHTML = docLinkHtml;\n",
              "          element.appendChild(docLink);\n",
              "        }\n",
              "      </script>\n",
              "    </div>\n",
              "  </div>\n",
              "  "
            ]
          },
          "metadata": {},
          "execution_count": 20
        }
      ]
    },
    {
      "cell_type": "markdown",
      "source": [
        "- Visualize the frequency distribution of the **bioactivity** category to decide how the dataset will be splitted before training in order to aviod a train/test imbalance."
      ],
      "metadata": {
        "id": "fC8FcVyisck5"
      }
    },
    {
      "cell_type": "code",
      "source": [
        "import seaborn as sns\n",
        "import matplotlib.pyplot as plt\n",
        "\n",
        "sns.set(style='ticks')\n",
        "plt.figure(figsize=(5.5, 5.5))\n",
        "\n",
        "sns.countplot(x='bioactivity', data=df, edgecolor='black')\n",
        "\n",
        "plt.xlabel('Bioactivity Class', fontsize=14, fontweight='bold')\n",
        "plt.ylabel('Frequency', fontsize=14, fontweight='bold')"
      ],
      "metadata": {
        "colab": {
          "base_uri": "https://localhost:8080/",
          "height": 385
        },
        "id": "rPsjvxFbYtkZ",
        "outputId": "b6d1415e-6632-49b8-ce66-bd35311cdeb5"
      },
      "execution_count": null,
      "outputs": [
        {
          "output_type": "execute_result",
          "data": {
            "text/plain": [
              "Text(0, 0.5, 'Frequency')"
            ]
          },
          "metadata": {},
          "execution_count": 22
        },
        {
          "output_type": "display_data",
          "data": {
            "text/plain": [
              "<Figure size 396x396 with 1 Axes>"
            ],
            "image/png": "[encoded data removed]"
          },
          "metadata": {}
        }
      ]
    },
    {
      "cell_type": "markdown",
      "source": [
        "- Its not exactly evenly distruted but it's not too way off either, so a simple random split should be suitable; however, I will implement a special split method as will be seen later.\n",
        "- The dataset is cleaned and ready to trained.\n",
        "- The line of code below save the dataset with the name **\"Bioactivity_cleaned.csv\"**, which is available as supplematary data to this notebook."
      ],
      "metadata": {
        "id": "-d6itwE9vDp4"
      }
    },
    {
      "cell_type": "code",
      "source": [
        "df.to_csv('Bioactivity_cleaned.csv',index = False)"
      ],
      "metadata": {
        "id": "OWd6KviqwpTZ"
      },
      "execution_count": null,
      "outputs": []
    },
    {
      "cell_type": "markdown",
      "source": [
        "## **Featurization**\n",
        "Models can only be trained with numerical inputs but so far, we've seen the molecules being represented just as **SMILES strings**. SMILES (simplified molecular-input line-entry system) is a method of encoding molecular structures to text format and they are unique for each compound. <br>\n",
        "Featurization, in turn, coverts these unique strings to numeric vectors, whereby each element of such vector represent the property of an atom or a chemical bond.<br>\n",
        "I'll quickly give an illustration."
      ],
      "metadata": {
        "id": "ZLT9cTSKxaYF"
      }
    },
    {
      "cell_type": "code",
      "source": [
        "import pandas as pd\n",
        "\n",
        "df = pd.read_csv('Bioactivity_cleaned.csv')"
      ],
      "metadata": {
        "id": "WqmUOmKsJwyz"
      },
      "execution_count": null,
      "outputs": []
    },
    {
      "cell_type": "markdown",
      "source": [
        "- The column `canonical_smiles` contains the said SMILES string. I'll use the first five values for my illustration."
      ],
      "metadata": {
        "id": "VKgXe1zLZY_-"
      }
    },
    {
      "cell_type": "code",
      "source": [
        "smiles = df.canonical_smiles[:5]\n",
        "print(type(smiles[0]))\n",
        "print(smiles[0])"
      ],
      "metadata": {
        "colab": {
          "base_uri": "https://localhost:8080/"
        },
        "id": "TCFBvL0UJxOY",
        "outputId": "8d5d8fa5-a1f2-439a-e2c3-74e5c9e96e27"
      },
      "execution_count": null,
      "outputs": [
        {
          "output_type": "stream",
          "name": "stdout",
          "text": [
            "<class 'str'>\n",
            "CCOc1nn(-c2cccc(OCc3ccccc3)c2)c(=O)o1\n"
          ]
        }
      ]
    },
    {
      "cell_type": "markdown",
      "source": [
        "- we can see that it is just a string object. "
      ],
      "metadata": {
        "id": "FepElrTPa4xw"
      }
    },
    {
      "cell_type": "markdown",
      "source": [
        "#### Install Packages for Computational Chemistry\n",
        "[RDKit](https://www.rdkit.org/) and [DeepChem](https://deepchem.io/) have lots of useful functions for working with compounds. RDkit is automatically installed along with Deepchem."
      ],
      "metadata": {
        "id": "rIEn-AYYeQRk"
      }
    },
    {
      "cell_type": "code",
      "source": [
        "! pip install deepchem"
      ],
      "metadata": {
        "colab": {
          "base_uri": "https://localhost:8080/"
        },
        "id": "JctKBCaDFqu5",
        "outputId": "682ad00a-9de2-4045-b3f3-9d168deb9d6b"
      },
      "execution_count": null,
      "outputs": [
        {
          "output_type": "stream",
          "name": "stdout",
          "text": [
            "Collecting deepchem\n",
            "  Downloading deepchem-2.6.1-py3-none-any.whl (608 kB)\n",
            "\u001b[K     |████████████████████████████████| 608 kB 7.8 MB/s \n",
            "\u001b[?25hCollecting rdkit-pypi\n",
            "  Downloading rdkit_pypi-2021.9.5.1-cp37-cp37m-manylinux_2_17_x86_64.manylinux2014_x86_64.whl (22.3 MB)\n",
            "\u001b[K     |████████████████████████████████| 22.3 MB 1.3 MB/s \n",
            "\u001b[?25hRequirement already satisfied: scikit-learn in /usr/local/lib/python3.7/dist-packages (from deepchem) (1.0.2)\n",
            "Requirement already satisfied: pandas in /usr/local/lib/python3.7/dist-packages (from deepchem) (1.3.5)\n",
            "Requirement already satisfied: numpy>=1.21 in /usr/local/lib/python3.7/dist-packages (from deepchem) (1.21.5)\n",
            "Requirement already satisfied: scipy in /usr/local/lib/python3.7/dist-packages (from deepchem) (1.4.1)\n",
            "Requirement already satisfied: joblib in /usr/local/lib/python3.7/dist-packages (from deepchem) (1.1.0)\n",
            "Requirement already satisfied: pytz>=2017.3 in /usr/local/lib/python3.7/dist-packages (from pandas->deepchem) (2018.9)\n",
            "Requirement already satisfied: python-dateutil>=2.7.3 in /usr/local/lib/python3.7/dist-packages (from pandas->deepchem) (2.8.2)\n",
            "Requirement already satisfied: six>=1.5 in /usr/local/lib/python3.7/dist-packages (from python-dateutil>=2.7.3->pandas->deepchem) (1.15.0)\n",
            "Requirement already satisfied: Pillow in /usr/local/lib/python3.7/dist-packages (from rdkit-pypi->deepchem) (7.1.2)\n",
            "Requirement already satisfied: threadpoolctl>=2.0.0 in /usr/local/lib/python3.7/dist-packages (from scikit-learn->deepchem) (3.1.0)\n",
            "Installing collected packages: rdkit-pypi, deepchem\n",
            "Successfully installed deepchem-2.6.1 rdkit-pypi-2021.9.5.1\n"
          ]
        }
      ]
    },
    {
      "cell_type": "code",
      "source": [
        "from rdkit import Chem\n",
        "from rdkit.Chem import Draw"
      ],
      "metadata": {
        "id": "skTs0YOdhcCX"
      },
      "execution_count": null,
      "outputs": []
    },
    {
      "cell_type": "markdown",
      "source": [
        "- RDKit has the `.MolFromSmiles()` method which decodes SMILES strings to molecular objects."
      ],
      "metadata": {
        "id": "36WD-uLvjD-u"
      }
    },
    {
      "cell_type": "code",
      "source": [
        "molecules = [Chem.MolFromSmiles(smile) for smile in smiles]\n",
        "Draw.MolsToGridImage(molecules)"
      ],
      "metadata": {
        "colab": {
          "base_uri": "https://localhost:8080/",
          "height": 417
        },
        "id": "Xl1gLe2Yhb6-",
        "outputId": "c743d961-6183-4fcf-c37c-d017a40185b0"
      },
      "execution_count": null,
      "outputs": [
        {
          "output_type": "execute_result",
          "data": {
            "text/plain": [
              "<PIL.PngImagePlugin.PngImageFile image mode=RGB size=600x400 at 0x7F87926DB5D0>"
            ],
            "image/png": "[encoded data removed]"
          },
          "metadata": {},
          "execution_count": 11
        }
      ]
    },
    {
      "cell_type": "markdown",
      "source": [
        "- Next, each of these molecules need to be converted into features or molecular fingerprints.\n",
        "- There are several methods of doing this, and DeepChem has classes dedicated to each.  Details are in this deepchem [tutorial](https://github.com/deepchem/deepchem/blob/master/examples/tutorials/Going_Deeper_on_Molecular_Featurizations.ipynb), which I found useful.\n",
        "- One of them is the \"Extended Connectivity Fingerprint\" (ECFP) or Circular Fingerprints.\n",
        "- The ECFP algorithm classifies atoms based on their properties and bonds. For example, \"a carbon atom bonded to two heavy atoms\" could be a feature, and a particular element of the fingerprint is set to 1 for any molecule that contains that feature or 0 if it doesn't.\n",
        "- To illustrate, we first need to create an instance of `CircularFingerprint()`\n",
        "- Molecules varies in sizes and number of atoms, so to maintain a uniform length for all features, we specify a desired size. \n"
      ],
      "metadata": {
        "id": "Pmq0c5w9lsV5"
      }
    },
    {
      "cell_type": "code",
      "source": [
        "import deepchem as dc\n",
        "\n",
        "featurizer = dc.feat.CircularFingerprint(size=1024)"
      ],
      "metadata": {
        "id": "hp1DwJqIhb2z"
      },
      "execution_count": null,
      "outputs": []
    },
    {
      "cell_type": "markdown",
      "source": [
        "- let's see how it works on a dummy molecule"
      ],
      "metadata": {
        "id": "orHLtTgU0Mxm"
      }
    },
    {
      "cell_type": "code",
      "source": [
        "feature_vector = featurizer(\"CCO\")\n",
        "print(feature_vector)"
      ],
      "metadata": {
        "colab": {
          "base_uri": "https://localhost:8080/"
        },
        "id": "sIKnG5hYhbyM",
        "outputId": "dccfaf8d-47d9-4bf1-8e83-973606477428"
      },
      "execution_count": null,
      "outputs": [
        {
          "output_type": "stream",
          "name": "stdout",
          "text": [
            "[[0. 0. 0. ... 0. 0. 0.]]\n"
          ]
        }
      ]
    },
    {
      "cell_type": "markdown",
      "source": [
        "- It returns an array of floats unique for \"CCO\"\n",
        "- let's confirm the size"
      ],
      "metadata": {
        "id": "CRc-jYkX0rHQ"
      }
    },
    {
      "cell_type": "code",
      "source": [
        "feature_vector.size"
      ],
      "metadata": {
        "colab": {
          "base_uri": "https://localhost:8080/"
        },
        "id": "KkcliMimFrtF",
        "outputId": "57ff99a8-167d-4d49-fd82-cafc9a93e564"
      },
      "execution_count": null,
      "outputs": [
        {
          "output_type": "execute_result",
          "data": {
            "text/plain": [
              "1024"
            ]
          },
          "metadata": {},
          "execution_count": 16
        }
      ]
    },
    {
      "cell_type": "markdown",
      "source": [
        "- All sizes are fixed regardless of the length of the molecule\n",
        "- Let's see one more example with the first five SMILES"
      ],
      "metadata": {
        "id": "utJFNHSq27Al"
      }
    },
    {
      "cell_type": "code",
      "source": [
        "featurizer(smiles)"
      ],
      "metadata": {
        "colab": {
          "base_uri": "https://localhost:8080/"
        },
        "id": "TKcK63gZFrkn",
        "outputId": "e2eda169-f469-4edf-b792-51e2df348e69"
      },
      "execution_count": null,
      "outputs": [
        {
          "output_type": "execute_result",
          "data": {
            "text/plain": [
              "array([[0., 0., 0., ..., 0., 0., 0.],\n",
              "       [1., 0., 1., ..., 0., 0., 0.],\n",
              "       [0., 0., 0., ..., 0., 0., 0.],\n",
              "       [0., 0., 1., ..., 0., 0., 0.],\n",
              "       [0., 0., 0., ..., 0., 0., 1.]])"
            ]
          },
          "metadata": {},
          "execution_count": 19
        }
      ]
    },
    {
      "cell_type": "code",
      "source": [
        ""
      ],
      "metadata": {
        "id": "XW-I7AxX7Trk"
      },
      "execution_count": null,
      "outputs": []
    },
    {
      "cell_type": "markdown",
      "source": [
        "- Now! we are ready to begin machine learning proper."
      ],
      "metadata": {
        "id": "_Aswmb5R4U1P"
      }
    },
    {
      "cell_type": "markdown",
      "source": [
        "## **Regression Models**\n",
        "The task in this section is to predict the \"pIC50\" of a compound from its molecular structure.<br>\n",
        "#### **Load Dataset**\n",
        "For this task, the target, y, is `pIC50` and the features , X, is the \"featurized version\" of the column `canonical_smiles`. \n",
        "- The codes below apply the featurizer, earlier described, on `canonical_smiles` and return a special deepchem object which is equivalent to the array in the earlier example."
      ],
      "metadata": {
        "id": "oLgcuf8s6Lmm"
      }
    },
    {
      "cell_type": "code",
      "source": [
        "loader = dc.data.CSVLoader(tasks = [\"pIC50\"],\n",
        "                           feature_field = \"canonical_smiles\", \n",
        "                           featurizer = featurizer)\n",
        "\n",
        "dataset = loader.create_dataset('Bioactivity_cleaned.csv')\n",
        "\n",
        "dataset"
      ],
      "metadata": {
        "colab": {
          "base_uri": "https://localhost:8080/"
        },
        "id": "OgHh_Nu8FrYS",
        "outputId": "24c84d16-bf13-4767-ab63-6b153ce66f24"
      },
      "execution_count": null,
      "outputs": [
        {
          "output_type": "execute_result",
          "data": {
            "text/plain": [
              "<DiskDataset X.shape: (5665, 1024), y.shape: (5665, 1), w.shape: (5665, 1), task_names: ['pIC50']>"
            ]
          },
          "metadata": {},
          "execution_count": 3
        }
      ]
    },
    {
      "cell_type": "markdown",
      "source": [
        "#### **Split Dataset**\n",
        "In Machine Learning, we try to aviod two problems during split;\n",
        "- **Train/Test Imbalance**: This happens when the dataset contains disproportionate number of class labels. For example, consider a dataset with 100 examples and two class labels, say 'positive' (with 90 examples) and 'negative' (with 10 examples). If we split this dataset randomly into train and test set, we could end up with no 'negative' examples in the test set and thus, unsuitable for evaluation.\n",
        "- **Data Leakage**: A dataset may have a subset of examples with similar features by chance and if this is not addressed during splitting, we could end up having a train and test dataset with similar example. Consequently, the model would learn such features from the train set and perform very well when be evaulated on the test test, since it has seen those features before -- a type of Leakage known as **Train-test contamination**. However, the model will perform poorly when deployed to predict new dataset.\n",
        "\n",
        "DeepChem has different in built splitters that addressed these problems. I opted for the ScaffoldSplitter. Details about the available options and source codes can be found on the [official documentaion](https://deepchem.readthedocs.io/en/latest/api_reference/splitters.html#scaffoldsplitter).\n",
        "##### **ScaffoldSplitter**\n",
        "This splitter identifies molecules based on the [Bemis-Murcko scaffold algorithm](https://docs.chemaxon.com/display/docs/bemis-murcko-clustering.md), and ensures that all molecules with the same scaffold are put into the same dataset.\n",
        "- It returns three datasets: train, valid and test with a 80/10/10 percent split respectively."
      ],
      "metadata": {
        "id": "PsmXbrEsVDJt"
      }
    },
    {
      "cell_type": "code",
      "source": [
        "splitter = dc.splits.ScaffoldSplitter()\n",
        "train, valid, test = splitter.train_valid_test_split(dataset)"
      ],
      "metadata": {
        "id": "HCis543Yh1Qn"
      },
      "execution_count": null,
      "outputs": []
    },
    {
      "cell_type": "markdown",
      "source": [
        "#### **Normalization**\n",
        "Normalization is a standard step in all Machine Learning methods.The aim is to put all data points in the same scale, so that features on larger scale do not contribute more weights than others. There are various standardization methods available in **Scikit-learn** package under the **`StandardScaler`** submodule. DeepChem has a method `NormalizationTransformer` for same purpose. In addition, we can decide to customized our own scaler; however, I opt to use the built-in deepchem method. Normalization works by setting the mean of the data to zero and standard deviation (sd) to 1. It is given by this equation:<br><br>\n",
        "$$X_(scaled) = \\frac{X - mean}{sd}$$\n",
        "<br>\n",
        "In Machine Learning, the following are best practice when standardizing.\n",
        "1. Normalize after splitting datasets.\n",
        "2. We use the mean and sd of the train set. This is done by fitting the train set to an instance of the 'normalization' class, which varies by name depends on the package of choice.\n",
        "3. Then we transform the sub-datasets (ie train, valid, test) using the \"fitted object\" above. In addition, new dataset will undergo the same transformation before being fed to the model for prediction."
      ],
      "metadata": {
        "id": "g24ytYmFp3Ld"
      }
    },
    {
      "cell_type": "code",
      "source": [
        "transformers = [dc.trans.NormalizationTransformer(transform_y=True, dataset=train)]\n",
        "for dataset in [train, valid, test]:\n",
        "  for transformer in transformers:\n",
        "      dataset = transformer.transform(dataset)"
      ],
      "metadata": {
        "id": "ZBJIj3p83xPN"
      },
      "execution_count": null,
      "outputs": []
    },
    {
      "cell_type": "markdown",
      "source": [
        "#### **Training Models**\n",
        "- In this section, I will build and compare different regression models begining with random forest from `sklearn`.<br>\n",
        "\n",
        "##### **Random Forest Regressor** \n",
        "\n",
        "\n"
      ],
      "metadata": {
        "id": "NHhaOaF04XOB"
      }
    },
    {
      "cell_type": "code",
      "source": [
        "from sklearn.ensemble import RandomForestRegressor\n",
        "\n",
        "rf = RandomForestRegressor(n_estimators=100, random_state=1)\n",
        "model = dc.models.SklearnModel(rf)\n",
        "model.fit(train)"
      ],
      "metadata": {
        "id": "yKGa9Mi7FXV4"
      },
      "execution_count": 7,
      "outputs": []
    },
    {
      "cell_type": "markdown",
      "source": [
        "##### **Evaluate Model**\n",
        "The deepchem `Metric` module has different evaluation metrics. The choice of metric depends on largely on task (eg regression vs classification) and to some extend personal preference. Metric suitable for evaluating regression models include, mean absolute error, root mean sqaure error, R-squared among others.<br>\n",
        "For simplicity, I will use the R-squared, also known as the pearson correlation. It is easy to interprete, with values rannging from 0 to 1. 1 being a perfect model."
      ],
      "metadata": {
        "id": "biv9qswPGHBb"
      }
    },
    {
      "cell_type": "code",
      "source": [
        "from deepchem.utils.evaluate import Evaluator\n",
        "\n",
        "metric = dc.metrics.Metric(dc.metrics.r2_score)\n",
        "evaluator = Evaluator(model, valid, transformers)\n",
        "rf_score = evaluator.compute_model_performance([metric])[\"r2_score\"]\n",
        "\n",
        "print(f\"R_squared of Random Forest Model is {round(rf_score, 2)}\")"
      ],
      "metadata": {
        "colab": {
          "base_uri": "https://localhost:8080/"
        },
        "id": "mwNbLD-TPjx7",
        "outputId": "68be9056-f15f-4007-9a24-8348837a4275"
      },
      "execution_count": 8,
      "outputs": [
        {
          "output_type": "stream",
          "name": "stdout",
          "text": [
            "R_squared of Random Forest Model is 0.44\n"
          ]
        }
      ]
    },
    {
      "cell_type": "markdown",
      "source": [
        "- 0.44 is not a good score. \n",
        "- Let's try to improve on that by fine tunning some hyperparameters."
      ],
      "metadata": {
        "id": "U3Rszkyp3WYT"
      }
    },
    {
      "cell_type": "markdown",
      "source": [
        "##### **Hyperparameters Tunning**\n",
        "The `GridHyperparamOpt` class, which is similar to sklearn's Gridsearch, enables us to try various hyperparameters in a few lines of code. We can tune as many as we want but I will consider only two parameters.\n",
        "- **n_estimators**: Random Forest is an ensemble of several decision trees. The `n_estimators` indicates the number of trees we want the algorithm to use. Generally, random forest perfom better with increasing number of trees but that is not always the case. The only way to find out is trying different options. I randomly chose some low and high numbers below.\n",
        "- **max_features**: This is the number of features the algorithm will consider when looking for the best split at each decision node. The default value is \"auto\". I prefer to try all four available options. More information on the sklearn documentation.\n",
        "\n",
        "Notice I created a model_builder function; this is because `GridHyperparamOpt()` expects a \"callable\" object.<br>\n",
        "In addition, ****** makes the function flexible to accept any number of key word arguments **(kwargs)**."
      ],
      "metadata": {
        "id": "TDYXwiN3SaKI"
      }
    },
    {
      "cell_type": "code",
      "source": [
        "params = {\n",
        "    \"n_estimators\": [5, 10, 50, 100, 150, 200],\n",
        "    \"max_features\": [\"auto\", \"sqrt\", \"log2\", None]}\n",
        "\n",
        "\n",
        "def model_builder(**model_params):\n",
        "  n_estimators = model_params['n_estimators']\n",
        "  max_features = model_params['max_features']\n",
        "  rf = RandomForestRegressor(n_estimators=n_estimators, max_features=max_features)\n",
        "  return dc.models.SklearnModel(rf)\n",
        "\n",
        "\n",
        "optimizer = dc.hyper.GridHyperparamOpt(model_builder)\n",
        "metric = dc.metrics.Metric(dc.metrics.r2_score)\n",
        "best_model, best_hyperparams, all_results = optimizer.hyperparam_search(\n",
        "    params, train, valid, metric, transformers)"
      ],
      "metadata": {
        "id": "4Uii_bI4hqz5"
      },
      "execution_count": 10,
      "outputs": []
    },
    {
      "cell_type": "markdown",
      "source": [
        "- It returns the best model, best hyperparameters and all results based on their performance on the valid_dataset.\n",
        "- Let's take a look at the best performing hyperparameters"
      ],
      "metadata": {
        "id": "DPYdKp2hkvRG"
      }
    },
    {
      "cell_type": "code",
      "source": [
        "best_hyperparams"
      ],
      "metadata": {
        "colab": {
          "base_uri": "https://localhost:8080/"
        },
        "id": "5rSOuGjdhqcb",
        "outputId": "2b59d842-8b20-4a20-8dcf-ab280271c16c"
      },
      "execution_count": 13,
      "outputs": [
        {
          "output_type": "execute_result",
          "data": {
            "text/plain": [
              "{'max_features': 'sqrt', 'n_estimators': 100}"
            ]
          },
          "metadata": {},
          "execution_count": 13
        }
      ]
    },
    {
      "cell_type": "markdown",
      "source": [
        "- Now let's evaluate the performance of best model on the test dataset"
      ],
      "metadata": {
        "id": "xFMj305DB39C"
      }
    },
    {
      "cell_type": "code",
      "source": [
        "test_evaluator = Evaluator(best_model, test, transformers)\n",
        "RF_test_score = test_evaluator.compute_model_performance([metric])['r2_score']\n",
        "round(RF_test_score, 2)"
      ],
      "metadata": {
        "colab": {
          "base_uri": "https://localhost:8080/"
        },
        "id": "ekycXts2CEHp",
        "outputId": "afe2172a-eb4f-43a6-98d4-34189dc67a5e"
      },
      "execution_count": 12,
      "outputs": [
        {
          "output_type": "execute_result",
          "data": {
            "text/plain": [
              "0.55"
            ]
          },
          "metadata": {},
          "execution_count": 12
        }
      ]
    },
    {
      "cell_type": "markdown",
      "source": [
        "#### **Deep Neural Network**\n",
        "Below is a deepnet with four dense layers.<br>\n",
        "I opted for hidden layers with 1024, 500 and 500 nodes respectively after playing around with a few. And each with a 'relu' activation function.<br>\n",
        "I also added a dropout of 0.3. Dropout acts like a regularization by randomly dropping some node signals (in this case 30%) before passing them to the next layer.<br>\n",
        "BatchNormalization works the way as the normalization earlier described; In this case, it normalizes the output from each hidden layer before sending them as input to the next layer."
      ],
      "metadata": {
        "id": "aGQ-c7e_FUgE"
      }
    },
    {
      "cell_type": "code",
      "source": [
        "from tensorflow import keras\n",
        "from tensorflow.keras import layers\n",
        "\n",
        "model = keras.Sequential([\n",
        "    layers.Dense(1024, activation='relu', input_shape=[train.X.shape[1]]),\n",
        "    layers.Dropout(0.3),\n",
        "    layers.BatchNormalization(),\n",
        "    layers.Dense(500, activation='relu'),\n",
        "    layers.Dropout(0.3),\n",
        "    layers.BatchNormalization(),\n",
        "    layers.Dense(500, activation='relu'),\n",
        "    layers.Dropout(0.3),\n",
        "    layers.BatchNormalization(),\n",
        "    layers.Dense(1),\n",
        "])\n",
        "\n",
        "model = dc.models.KerasModel(model, dc.models.losses.L2Loss())\n",
        "\n",
        "model.fit(train, nb_epoch=50)\n",
        "metric = dc.metrics.Metric(dc.metrics.pearson_r2_score)\n",
        "DNN_train_score = model.evaluate(train, [metric])['pearson_r2_score']\n",
        "DNN_test_score = model.evaluate(test, [metric])['pearson_r2_score']\n",
        "print('training set score:', round(DNN_train_score, 2))\n",
        "print('test set score:', round(DNN_test_score, 2))"
      ],
      "metadata": {
        "colab": {
          "base_uri": "https://localhost:8080/"
        },
        "id": "fBhigCkeFTTx",
        "outputId": "cdba5083-4e25-467a-84aa-1e3a83e2d30a"
      },
      "execution_count": 17,
      "outputs": [
        {
          "output_type": "stream",
          "name": "stdout",
          "text": [
            "training set score: 0.96\n",
            "test set score: 0.6\n"
          ]
        }
      ]
    },
    {
      "cell_type": "code",
      "source": [
        "DNN_train_score = 0.96\n",
        "DNN_test_score = 0.6"
      ],
      "metadata": {
        "id": "MjsEppyA1aQC"
      },
      "execution_count": 6,
      "outputs": []
    },
    {
      "cell_type": "markdown",
      "source": [
        "- The training score is almost excellent, however, the model performed lower on the test set. This is known as **overfitting.** This is a common problem in Machine Learning; here, the model learns irrelevant features from the train set which can not be generalize.\n",
        "- One way of adressing overfitting is by implementing early stopping.\n",
        "- Early stopping works by evaluating the performance of both the train and valid set in realtime. Then it terminates training immediately the valid score stops improving."
      ],
      "metadata": {
        "id": "Xx5BM7qXL8pj"
      }
    },
    {
      "cell_type": "markdown",
      "source": [
        "##### **Implementing Early Stopping**\n",
        "The model is same as above but we add a callback this time and pass the valid dataset as an argument. In addition, we how often we want to evaluate performance. In this case, we evalaute after every 500 training steps."
      ],
      "metadata": {
        "id": "B7dLy3-B0TRa"
      }
    },
    {
      "cell_type": "code",
      "source": [
        "model = keras.Sequential([\n",
        "    layers.Dense(1024, activation='relu', input_shape=[train.X.shape[1]]),\n",
        "    layers.Dropout(0.3),\n",
        "    layers.BatchNormalization(),\n",
        "    layers.Dense(500, activation='relu'),\n",
        "    layers.Dropout(0.3),\n",
        "    layers.BatchNormalization(),\n",
        "    layers.Dense(500, activation='relu'),\n",
        "    layers.Dropout(0.3),\n",
        "    layers.BatchNormalization(),\n",
        "    layers.Dense(1),\n",
        "])\n",
        "\n",
        "model = dc.models.KerasModel(model, dc.models.losses.L2Loss())\n",
        "\n",
        "callback = dc.models.ValidationCallback(valid, 500, metric)\n",
        "\n",
        "model.fit(train, nb_epoch=50, callbacks=callback)\n",
        "\n",
        "DNN_train_score1 = model.evaluate(train, [metric])['pearson_r2_score']\n",
        "DNN_test_score1 = model.evaluate(test, [metric])['pearson_r2_score']\n",
        "print('training set score:', round(DNN_train_score1, 2))\n",
        "print('test set score:', round(DNN_test_score1, 2))"
      ],
      "metadata": {
        "id": "6kmyhmiqFTHe",
        "colab": {
          "base_uri": "https://localhost:8080/"
        },
        "outputId": "d37c7ae3-120a-4de4-f503-c463d114c111"
      },
      "execution_count": 23,
      "outputs": [
        {
          "output_type": "stream",
          "name": "stdout",
          "text": [
            "Step 500 validation: pearson_r2_score=0.424965\n",
            "Step 1000 validation: pearson_r2_score=0.434093\n",
            "Step 1500 validation: pearson_r2_score=0.439724\n",
            "Step 2000 validation: pearson_r2_score=0.458065\n",
            "training set score: 0.95\n",
            "test set score: 0.6\n"
          ]
        }
      ]
    },
    {
      "cell_type": "markdown",
      "source": [
        "- Early stopping did not help in this case. \n",
        "- The model needs more tweaks."
      ],
      "metadata": {
        "id": "co2GmXLl6zwI"
      }
    },
    {
      "cell_type": "markdown",
      "source": [
        "## **Classification Models**\n",
        "In this section, I will try various classication models. The steps remain the same. Only changes are:\n",
        "- **bioactivity** is the target column this time around. Recall, it has two levels -- \"active\" and \"inactive\". So it is a binary classification task.\n",
        "- the appropriate evaluation metric for a binary classification is the **accuracy score**.\n",
        "\n",
        "\n",
        "#### **Random Forest Classifier**"
      ],
      "metadata": {
        "id": "wgr4RsnC7J5t"
      }
    },
    {
      "cell_type": "code",
      "source": [
        "from sklearn.ensemble import RandomForestClassifier\n",
        "from sklearn.metrics import accuracy_score\n",
        "\n",
        "\n",
        "# load dataset\n",
        "dataset_file = 'Bioactivity_cleaned.csv'\n",
        "loader = dc.data.CSVLoader(tasks = [\"bioactivity\"],\n",
        "                           feature_field = \"canonical_smiles\", \n",
        "                           featurizer = featurizer)\n",
        "dataset = loader.create_dataset(dataset_file)\n",
        "\n",
        "\n",
        "#split dataset\n",
        "splitter = dc.splits.ScaffoldSplitter()\n",
        "train, valid, test = splitter.train_valid_test_split(dataset)\n",
        "\n",
        "\n",
        "#normalize dataset\n",
        "transformers = [\n",
        "    dc.trans.NormalizationTransformer(transform_y=True, dataset=train)]\n",
        "for dataset in [train, valid, test]:\n",
        "  for transformer in transformers:\n",
        "      dataset = transformer.transform(dataset)\n",
        "\n",
        "#define appropriate metric\n",
        "metric = dc.metrics.Metric(dc.metrics.accuracy_score)\n",
        "\n",
        "\n",
        "#define hyperparameters\n",
        "params = {\n",
        "    \"n_estimators\": [5, 10, 50, 100, 150, 200],\n",
        "    \"max_features\": [\"auto\", \"sqrt\", \"log2\", None],\n",
        "    }\n",
        "\n",
        "#build model\n",
        "def model_builder(**model_params):\n",
        "  n_estimators = model_params['n_estimators']\n",
        "  max_features = model_params['max_features']\n",
        "  rf = RandomForestClassifier(n_estimators=n_estimators, max_features=max_features)\n",
        "  return dc.models.SklearnModel(rf)\n",
        "\n",
        "optimizer = dc.hyper.GridHyperparamOpt(model_builder)\n",
        "best_model, best_hyperparams, all_results = optimizer.hyperparam_search(\n",
        "    params, train, valid, metric, transformers)"
      ],
      "metadata": {
        "id": "GkRZjau1FTBV"
      },
      "execution_count": 24,
      "outputs": []
    },
    {
      "cell_type": "code",
      "source": [
        "all_results"
      ],
      "metadata": {
        "colab": {
          "base_uri": "https://localhost:8080/"
        },
        "id": "pAmoF-7wFS-9",
        "outputId": "d4906935-af63-4dc3-8e73-5d377678aec1"
      },
      "execution_count": 25,
      "outputs": [
        {
          "output_type": "execute_result",
          "data": {
            "text/plain": [
              "{'_max_featuresNone_n_estimators_10': 0.676678445229682,\n",
              " '_max_featuresNone_n_estimators_100': 0.6590106007067138,\n",
              " '_max_featuresNone_n_estimators_150': 0.6484098939929329,\n",
              " '_max_featuresNone_n_estimators_200': 0.6590106007067138,\n",
              " '_max_featuresNone_n_estimators_5': 0.6148409893992933,\n",
              " '_max_featuresNone_n_estimators_50': 0.657243816254417,\n",
              " '_max_featuresauto_n_estimators_10': 0.6802120141342756,\n",
              " '_max_featuresauto_n_estimators_100': 0.666077738515901,\n",
              " '_max_featuresauto_n_estimators_150': 0.666077738515901,\n",
              " '_max_featuresauto_n_estimators_200': 0.6643109540636042,\n",
              " '_max_featuresauto_n_estimators_5': 0.657243816254417,\n",
              " '_max_featuresauto_n_estimators_50': 0.6837455830388692,\n",
              " '_max_featureslog2_n_estimators_10': 0.6943462897526502,\n",
              " '_max_featureslog2_n_estimators_100': 0.6713780918727915,\n",
              " '_max_featureslog2_n_estimators_150': 0.6696113074204947,\n",
              " '_max_featureslog2_n_estimators_200': 0.6784452296819788,\n",
              " '_max_featureslog2_n_estimators_5': 0.657243816254417,\n",
              " '_max_featureslog2_n_estimators_50': 0.676678445229682,\n",
              " '_max_featuressqrt_n_estimators_10': 0.7049469964664311,\n",
              " '_max_featuressqrt_n_estimators_100': 0.6731448763250883,\n",
              " '_max_featuressqrt_n_estimators_150': 0.666077738515901,\n",
              " '_max_featuressqrt_n_estimators_200': 0.6713780918727915,\n",
              " '_max_featuressqrt_n_estimators_5': 0.6413427561837456,\n",
              " '_max_featuressqrt_n_estimators_50': 0.6590106007067138}"
            ]
          },
          "metadata": {},
          "execution_count": 25
        }
      ]
    },
    {
      "cell_type": "markdown",
      "source": [
        "- max_fearures = log2 and n_estimators = 10 has the highest valid accuracy score"
      ],
      "metadata": {
        "id": "F-5Xx6EdrKLV"
      }
    },
    {
      "cell_type": "code",
      "source": [
        "RFC_score_valid = all_results['_max_featuressqrt_n_estimators_10']\n",
        "round(RFC_score_valid, 2)"
      ],
      "metadata": {
        "colab": {
          "base_uri": "https://localhost:8080/"
        },
        "id": "ePgrKcq0BR03",
        "outputId": "fb1adbd7-61a4-42a8-e287-1fc5a3cfd8f0"
      },
      "execution_count": 26,
      "outputs": [
        {
          "output_type": "execute_result",
          "data": {
            "text/plain": [
              "0.7"
            ]
          },
          "metadata": {},
          "execution_count": 26
        }
      ]
    },
    {
      "cell_type": "markdown",
      "source": [
        "- Let's evaluate on test set\n"
      ],
      "metadata": {
        "id": "O-xlFRtRBs_x"
      }
    },
    {
      "cell_type": "code",
      "source": [
        "test_evaluator = Evaluator(best_model, test, transformers)\n",
        "RFC_test_score = test_evaluator.compute_model_performance([metric])[\"accuracy_score\"]\n",
        "round(RFC_test_score,2)"
      ],
      "metadata": {
        "id": "JOn7EpQwCE4e",
        "colab": {
          "base_uri": "https://localhost:8080/"
        },
        "outputId": "13b82cc3-84eb-42cc-f2d2-9615f75654a4"
      },
      "execution_count": 31,
      "outputs": [
        {
          "output_type": "execute_result",
          "data": {
            "text/plain": [
              "0.52"
            ]
          },
          "metadata": {},
          "execution_count": 31
        }
      ]
    },
    {
      "cell_type": "markdown",
      "source": [
        "####**Logistic Regression**"
      ],
      "metadata": {
        "id": "HjT1Lr9xrtiL"
      }
    },
    {
      "cell_type": "code",
      "source": [
        "from sklearn.linear_model import LogisticRegression\n",
        "\n",
        "lr = LogisticRegression(max_iter=200, random_state=0)\n",
        "model = dc.models.SklearnModel(lr)\n",
        "model.fit(train)\n",
        "\n",
        "evaluator = Evaluator(model, test, transformers)\n",
        "LR_test_score = evaluator.compute_model_performance([metric])[\"accuracy_score\"]\n",
        "\n",
        "round(LR_test_score, 2)"
      ],
      "metadata": {
        "colab": {
          "base_uri": "https://localhost:8080/"
        },
        "id": "zRU0EnIgr0HI",
        "outputId": "87ae178c-3aeb-492f-a106-d8511f45b989"
      },
      "execution_count": 35,
      "outputs": [
        {
          "output_type": "execute_result",
          "data": {
            "text/plain": [
              "0.47"
            ]
          },
          "metadata": {},
          "execution_count": 35
        }
      ]
    },
    {
      "cell_type": "markdown",
      "source": [
        "#### **Deep Network Classifier**\n",
        "- Lets try a classification using a simple deep net with just 2 layers.\n",
        "\n",
        "I adapted Codes from the official [deepChem tutorials]( https://github.com/deepchem/deepchem/blob/master/examples/tutorials/Creating_Models_with_TensorFlow_and_PyTorch.ipynb)."
      ],
      "metadata": {
        "id": "QuWGF6wR1_v0"
      }
    },
    {
      "cell_type": "code",
      "source": [
        "import tensorflow as tf\n",
        "\n",
        "class ClassificationModel(tf.keras.Model):\n",
        "    \n",
        "    def __init__(self):\n",
        "        super(ClassificationModel, self).__init__()\n",
        "        self.dense1 = tf.keras.layers.Dense(1000, activation='relu')\n",
        "        self.dense2 = tf.keras.layers.Dense(1)\n",
        "\n",
        "    def call(self, inputs, training=False):\n",
        "        y = self.dense1(inputs)\n",
        "        if training:\n",
        "            y = tf.nn.dropout(y, 0.5)\n",
        "        logits = self.dense2(y)\n",
        "        output = tf.nn.sigmoid(logits)\n",
        "        return output, logits\n",
        "\n",
        "keras_model = ClassificationModel()\n",
        "output_types = ['prediction', 'loss']\n",
        "model = dc.models.KerasModel(keras_model, dc.models.losses.SigmoidCrossEntropy(), output_types=output_types)\n",
        "\n",
        "model.fit(train, nb_epoch=100)\n",
        "\n",
        "DN_Class_train = model.evaluate(train, [metric])['accuracy_score']\n",
        "DN_Class_valid = model.evaluate(valid, [metric])['accuracy_score']\n",
        "print('training set score:', round(DN_Class_train, 2))\n",
        "print('valid set score:', round(DN_Class_test, 2))"
      ],
      "metadata": {
        "colab": {
          "base_uri": "https://localhost:8080/"
        },
        "id": "XB15XQJ-0se-",
        "outputId": "ecb881c9-8e72-4993-8ba5-263148b20ad5"
      },
      "execution_count": 37,
      "outputs": [
        {
          "output_type": "stream",
          "name": "stdout",
          "text": [
            "training set score: 0.99\n",
            "valid set score: 0.76\n"
          ]
        }
      ]
    },
    {
      "cell_type": "markdown",
      "source": [
        "- evaluate on test set"
      ],
      "metadata": {
        "id": "1sMUFMExLDS6"
      }
    },
    {
      "cell_type": "code",
      "source": [
        "DN_Class_test = model.evaluate(test, [metric])['accuracy_score']\n",
        "print('test set score:', round(DN_Class_test, 2))"
      ],
      "metadata": {
        "colab": {
          "base_uri": "https://localhost:8080/"
        },
        "id": "MNQ3aV7GKcPB",
        "outputId": "0d253ab1-c598-473d-d633-624c65895573"
      },
      "execution_count": 39,
      "outputs": [
        {
          "output_type": "stream",
          "name": "stdout",
          "text": [
            "test set score: 0.79\n"
          ]
        }
      ]
    },
    {
      "cell_type": "markdown",
      "source": [
        "## **Graph Convolutions**\n",
        "So far, we used the ECFP featurizer. It represents molecules and interactions of atoms in 2D plane. Some information about molecules are lost in this type of represenation because atoms interacts in 3D planes in real molecules.<br><br>\n",
        "Graph convolutions solves this by representing the 3D structures of molecules in form of a graph. This, in turn, allows us to built more complex networks similar to Convolutional Neural Networks (CNN) used in image processing.<br><br>\n",
        "See my work on image classification using CNN, [here]().<br>\n",
        "See [Graph Convolutions in DeepChem](https://github.com/deepchem/deepchem/blob/master/examples/tutorials/Introduction_to_Graph_Convolutions.ipynb)<br><br>\n",
        "This paper is very enlightening on the subject: [Convolutional networks on graphs for learning molecular fingerprints](https://proceedings.neurips.cc/paper/2015/hash/f9be311e65d81a9ad8150a60844bb94c-Abstract.html)."
      ],
      "metadata": {
        "id": "kqOBsrhc6WcJ"
      }
    },
    {
      "cell_type": "markdown",
      "source": [
        "ref \n",
        "Duvenaud, David K., et al. \"Convolutional networks on graphs for \n",
        "         learning molecular fingerprints.\" Advances in neural information processing \n",
        "         systems. 2015."
      ],
      "metadata": {
        "id": "p_KQhmxb6WRL"
      }
    },
    {
      "cell_type": "markdown",
      "source": [
        "- To build a GraphConv in Deepchem, we use the `ConvMolFeaturizer()` featurizer\n",
        "- The other steps are similar to what we've done so far\n",
        "- The `GraphConvModel()` is a deepchem's bulit in implementation of a graph convolution network. Under the hood, it consists of two convolution layers, each with a width of 64 and a dense layer with a width of 128. See the source codes in deepchem Github repository.\n",
        "- In addition, I added a dropout of 0.2 to each layers."
      ],
      "metadata": {
        "id": "Vnj0C311XK-z"
      }
    },
    {
      "cell_type": "code",
      "source": [
        "featurizer = dc.feat.ConvMolFeaturizer()\n",
        "dataset_file = 'Bioactivity_cleaned.csv'\n",
        "\n",
        "loader = dc.data.CSVLoader(tasks = [\"bioactivity\"],\n",
        "                           feature_field = \"canonical_smiles\", \n",
        "                           featurizer = featurizer)\n",
        "dataset = loader.create_dataset(dataset_file)\n",
        "\n",
        "splitter = dc.splits.ScaffoldSplitter()\n",
        "train, valid, test = splitter.train_valid_test_split(dataset)\n",
        "\n",
        "transformers = [dc.trans.NormalizationTransformer(transform_y=True, dataset=train)]\n",
        "\n",
        "for dataset in [train, valid, test]:\n",
        "  for transformer in transformers:\n",
        "      dataset = transformer.transform(dataset)\n",
        "      \n",
        "model = dc.models.GraphConvModel(1, dropout=0.2, mode='classification')\n",
        "model.fit(train, nb_epoch=50)"
      ],
      "metadata": {
        "id": "t5Zvr0ch6X1o"
      },
      "execution_count": null,
      "outputs": []
    },
    {
      "cell_type": "code",
      "source": [
        "GCN_train = model.evaluate(train, [metric])['accuracy_score']\n",
        "GCN_valid = model.evaluate(valid, [metric])['accuracy_score']\n",
        "print('training set score:', round(GCN_train, 2))\n",
        "print('valid set score:', round(GCN_valid, 2))"
      ],
      "metadata": {
        "colab": {
          "base_uri": "https://localhost:8080/"
        },
        "id": "GJIOf90JIZoL",
        "outputId": "37464f94-12a5-47a2-f283-69a287cfdf5e"
      },
      "execution_count": 43,
      "outputs": [
        {
          "output_type": "stream",
          "name": "stdout",
          "text": [
            "training set score: 0.89\n",
            "valid set score: 0.74\n"
          ]
        }
      ]
    },
    {
      "cell_type": "markdown",
      "source": [
        "- let's try it on the test set"
      ],
      "metadata": {
        "id": "Z0hj-cDBIvF4"
      }
    },
    {
      "cell_type": "code",
      "source": [
        "GCN_test = model.evaluate(test, [metric])['accuracy_score']\n",
        "print('test set score:', round(GCN_test, 2))"
      ],
      "metadata": {
        "colab": {
          "base_uri": "https://localhost:8080/"
        },
        "id": "2CV5a-ndI7Gi",
        "outputId": "60c9076e-c79e-4f9c-facf-f7f56ff293e5"
      },
      "execution_count": 46,
      "outputs": [
        {
          "output_type": "stream",
          "name": "stdout",
          "text": [
            "test set score: 0.77\n"
          ]
        }
      ]
    },
    {
      "cell_type": "markdown",
      "source": [
        "## **Summary of Results**"
      ],
      "metadata": {
        "id": "uY6VZ0-qd0uI"
      }
    },
    {
      "cell_type": "code",
      "source": [
        "import pandas as pd"
      ],
      "metadata": {
        "id": "9lbdeNSgjM7j"
      },
      "execution_count": 49,
      "outputs": []
    },
    {
      "cell_type": "code",
      "source": [
        "scores = [RF_test_score, DNN_test_score, RFC_test_score, LR_test_score, DN_Class_test, GCN_test]\n",
        "model_name = [\"Random Forest Regressor\", \"DeepNet_Regressor\", \"Random Forest Classifier\", \n",
        "              \"Logistic Regression\", \"DeepNet_Classifier\", \"Graph Convolution\"]\n",
        "\n",
        "table = dict(scores = scores, model_name = model_name)\n",
        "\n",
        "result = pd.DataFrame(table)\n",
        "result.set_index(\"model_name\", inplace=True)\n",
        "result[\"scores\"] = result[\"scores\"].apply(lambda x: round(x,2))\n",
        "result"
      ],
      "metadata": {
        "colab": {
          "base_uri": "https://localhost:8080/",
          "height": 269
        },
        "id": "Ifqm7BpHd-Ny",
        "outputId": "6a44ca65-fb45-41e7-a078-a9be8cac5683"
      },
      "execution_count": 53,
      "outputs": [
        {
          "output_type": "execute_result",
          "data": {
            "text/plain": [
              "                          scores\n",
              "model_name                      \n",
              "Random Forest Regressor     0.55\n",
              "DeepNet_Regressor           0.60\n",
              "Random Forest Classifier    0.52\n",
              "Logistic Regression         0.47\n",
              "DeepNet_Classifier          0.79\n",
              "Graph Convolution           0.77"
            ],
            "text/html": [
              "\n",
              "  <div id=\"df-51390101-0671-44a2-957d-4fad7e7a6529\">\n",
              "    <div class=\"colab-df-container\">\n",
              "      <div>\n",
              "<style scoped>\n",
              "    .dataframe tbody tr th:only-of-type {\n",
              "        vertical-align: middle;\n",
              "    }\n",
              "\n",
              "    .dataframe tbody tr th {\n",
              "        vertical-align: top;\n",
              "    }\n",
              "\n",
              "    .dataframe thead th {\n",
              "        text-align: right;\n",
              "    }\n",
              "</style>\n",
              "<table border=\"1\" class=\"dataframe\">\n",
              "  <thead>\n",
              "    <tr style=\"text-align: right;\">\n",
              "      <th></th>\n",
              "      <th>scores</th>\n",
              "    </tr>\n",
              "    <tr>\n",
              "      <th>model_name</th>\n",
              "      <th></th>\n",
              "    </tr>\n",
              "  </thead>\n",
              "  <tbody>\n",
              "    <tr>\n",
              "      <th>Random Forest Regressor</th>\n",
              "      <td>0.55</td>\n",
              "    </tr>\n",
              "    <tr>\n",
              "      <th>DeepNet_Regressor</th>\n",
              "      <td>0.60</td>\n",
              "    </tr>\n",
              "    <tr>\n",
              "      <th>Random Forest Classifier</th>\n",
              "      <td>0.52</td>\n",
              "    </tr>\n",
              "    <tr>\n",
              "      <th>Logistic Regression</th>\n",
              "      <td>0.47</td>\n",
              "    </tr>\n",
              "    <tr>\n",
              "      <th>DeepNet_Classifier</th>\n",
              "      <td>0.79</td>\n",
              "    </tr>\n",
              "    <tr>\n",
              "      <th>Graph Convolution</th>\n",
              "      <td>0.77</td>\n",
              "    </tr>\n",
              "  </tbody>\n",
              "</table>\n",
              "</div>\n",
              "      <button class=\"colab-df-convert\" onclick=\"convertToInteractive('df-51390101-0671-44a2-957d-4fad7e7a6529')\"\n",
              "              title=\"Convert this dataframe to an interactive table.\"\n",
              "              style=\"display:none;\">\n",
              "        \n",
              "  <svg xmlns=\"http://www.w3.org/2000/svg\" height=\"24px\"viewBox=\"0 0 24 24\"\n",
              "       width=\"24px\">\n",
              "    <path d=\"M0 0h24v24H0V0z\" fill=\"none\"/>\n",
              "    <path d=\"M18.56 5.44l.94 2.06.94-2.06 2.06-.94-2.06-.94-.94-2.06-.94 2.06-2.06.94zm-11 1L8.5 8.5l.94-2.06 2.06-.94-2.06-.94L8.5 2.5l-.94 2.06-2.06.94zm10 10l.94 2.06.94-2.06 2.06-.94-2.06-.94-.94-2.06-.94 2.06-2.06.94z\"/><path d=\"M17.41 7.96l-1.37-1.37c-.4-.4-.92-.59-1.43-.59-.52 0-1.04.2-1.43.59L10.3 9.45l-7.72 7.72c-.78.78-.78 2.05 0 2.83L4 21.41c.39.39.9.59 1.41.59.51 0 1.02-.2 1.41-.59l7.78-7.78 2.81-2.81c.8-.78.8-2.07 0-2.86zM5.41 20L4 18.59l7.72-7.72 1.47 1.35L5.41 20z\"/>\n",
              "  </svg>\n",
              "      </button>\n",
              "      \n",
              "  <style>\n",
              "    .colab-df-container {\n",
              "      display:flex;\n",
              "      flex-wrap:wrap;\n",
              "      gap: 12px;\n",
              "    }\n",
              "\n",
              "    .colab-df-convert {\n",
              "      background-color: #E8F0FE;\n",
              "      border: none;\n",
              "      border-radius: 50%;\n",
              "      cursor: pointer;\n",
              "      display: none;\n",
              "      fill: #1967D2;\n",
              "      height: 32px;\n",
              "      padding: 0 0 0 0;\n",
              "      width: 32px;\n",
              "    }\n",
              "\n",
              "    .colab-df-convert:hover {\n",
              "      background-color: #E2EBFA;\n",
              "      box-shadow: 0px 1px 2px rgba(60, 64, 67, 0.3), 0px 1px 3px 1px rgba(60, 64, 67, 0.15);\n",
              "      fill: #174EA6;\n",
              "    }\n",
              "\n",
              "    [theme=dark] .colab-df-convert {\n",
              "      background-color: #3B4455;\n",
              "      fill: #D2E3FC;\n",
              "    }\n",
              "\n",
              "    [theme=dark] .colab-df-convert:hover {\n",
              "      background-color: #434B5C;\n",
              "      box-shadow: 0px 1px 3px 1px rgba(0, 0, 0, 0.15);\n",
              "      filter: drop-shadow(0px 1px 2px rgba(0, 0, 0, 0.3));\n",
              "      fill: #FFFFFF;\n",
              "    }\n",
              "  </style>\n",
              "\n",
              "      <script>\n",
              "        const buttonEl =\n",
              "          document.querySelector('#df-51390101-0671-44a2-957d-4fad7e7a6529 button.colab-df-convert');\n",
              "        buttonEl.style.display =\n",
              "          google.colab.kernel.accessAllowed ? 'block' : 'none';\n",
              "\n",
              "        async function convertToInteractive(key) {\n",
              "          const element = document.querySelector('#df-51390101-0671-44a2-957d-4fad7e7a6529');\n",
              "          const dataTable =\n",
              "            await google.colab.kernel.invokeFunction('convertToInteractive',\n",
              "                                                     [key], {});\n",
              "          if (!dataTable) return;\n",
              "\n",
              "          const docLinkHtml = 'Like what you see? Visit the ' +\n",
              "            '<a target=\"_blank\" href=https://colab.research.google.com/notebooks/data_table.ipynb>data table notebook</a>'\n",
              "            + ' to learn more about interactive tables.';\n",
              "          element.innerHTML = '';\n",
              "          dataTable['output_type'] = 'display_data';\n",
              "          await google.colab.output.renderOutput(dataTable, element);\n",
              "          const docLink = document.createElement('div');\n",
              "          docLink.innerHTML = docLinkHtml;\n",
              "          element.appendChild(docLink);\n",
              "        }\n",
              "      </script>\n",
              "    </div>\n",
              "  </div>\n",
              "  "
            ]
          },
          "metadata": {},
          "execution_count": 53
        }
      ]
    },
    {
      "cell_type": "code",
      "source": [
        "import matplotlib.pyplot as plt\n",
        "import numpy as np\n",
        "\n",
        "plt.figure(figsize= (6, 5))\n",
        "index = np.arange(len(scores))\n",
        "colors = ['black', 'red', 'green', 'blue', 'cyan', 'purple']\n",
        "plt.bar(index, scores, color=colors)\n",
        "\n",
        "plt.title('Perfomance of Models on Test Dataset')\n",
        "plt.ylabel('Scores')\n",
        "plt.xticks(index, model_name, rotation=90)\n",
        "plt.ylim(0,1)\n",
        "\n",
        "plt.show()"
      ],
      "metadata": {
        "colab": {
          "base_uri": "https://localhost:8080/",
          "height": 453
        },
        "id": "QXyeEbm8o8x0",
        "outputId": "2421e527-822d-40be-c83f-6f0accee76c4"
      },
      "execution_count": 64,
      "outputs": [
        {
          "output_type": "display_data",
          "data": {
            "text/plain": [
              "<Figure size 432x360 with 1 Axes>"
            ],
            "image/png": "[encoded data removed]"
          },
          "metadata": {
            "needs_background": "light"
          }
        }
      ]
    },
    {
      "cell_type": "markdown",
      "source": [
        "\n",
        "- Let's take a closer look at the performance of the deep learning models."
      ],
      "metadata": {
        "id": "uxvJ70gSxoY-"
      }
    },
    {
      "cell_type": "code",
      "source": [
        "Train = [DNN_train_score, DN_Class_train, GCN_train]\n",
        "Test = [DNN_test_score, DN_Class_test, GCN_test]\n",
        "Model = [\"DeepNet_Regressor\", \"DeepNet_Classifier\", \"Graph Convolution\"]\n",
        "\n",
        "table = dict(Train=Train, Test=Test, Model=Model)\n",
        "\n",
        "result = pd.DataFrame(table)\n",
        "result.set_index(\"Model\", inplace=True)\n",
        "result[\"Train\"] = result[\"Train\"].apply(lambda x: round(x,2))\n",
        "result[\"Test\"] = result[\"Test\"].apply(lambda x: round(x,2))\n",
        "result"
      ],
      "metadata": {
        "colab": {
          "base_uri": "https://localhost:8080/",
          "height": 175
        },
        "id": "6S64Vf-1yH7n",
        "outputId": "fffa0626-df95-44de-95cd-5f0a7ec5a007"
      },
      "execution_count": 15,
      "outputs": [
        {
          "output_type": "execute_result",
          "data": {
            "text/plain": [
              "                    Train  Test\n",
              "Model                          \n",
              "DeepNet_Regressor    0.96  0.60\n",
              "DeepNet_Classifier   0.99  0.79\n",
              "Graph Convolution    0.89  0.77"
            ],
            "text/html": [
              "\n",
              "  <div id=\"df-cef897fd-4151-43c4-a33b-43f1eff5ecaf\">\n",
              "    <div class=\"colab-df-container\">\n",
              "      <div>\n",
              "<style scoped>\n",
              "    .dataframe tbody tr th:only-of-type {\n",
              "        vertical-align: middle;\n",
              "    }\n",
              "\n",
              "    .dataframe tbody tr th {\n",
              "        vertical-align: top;\n",
              "    }\n",
              "\n",
              "    .dataframe thead th {\n",
              "        text-align: right;\n",
              "    }\n",
              "</style>\n",
              "<table border=\"1\" class=\"dataframe\">\n",
              "  <thead>\n",
              "    <tr style=\"text-align: right;\">\n",
              "      <th></th>\n",
              "      <th>Train</th>\n",
              "      <th>Test</th>\n",
              "    </tr>\n",
              "    <tr>\n",
              "      <th>Model</th>\n",
              "      <th></th>\n",
              "      <th></th>\n",
              "    </tr>\n",
              "  </thead>\n",
              "  <tbody>\n",
              "    <tr>\n",
              "      <th>DeepNet_Regressor</th>\n",
              "      <td>0.96</td>\n",
              "      <td>0.60</td>\n",
              "    </tr>\n",
              "    <tr>\n",
              "      <th>DeepNet_Classifier</th>\n",
              "      <td>0.99</td>\n",
              "      <td>0.79</td>\n",
              "    </tr>\n",
              "    <tr>\n",
              "      <th>Graph Convolution</th>\n",
              "      <td>0.89</td>\n",
              "      <td>0.77</td>\n",
              "    </tr>\n",
              "  </tbody>\n",
              "</table>\n",
              "</div>\n",
              "      <button class=\"colab-df-convert\" onclick=\"convertToInteractive('df-cef897fd-4151-43c4-a33b-43f1eff5ecaf')\"\n",
              "              title=\"Convert this dataframe to an interactive table.\"\n",
              "              style=\"display:none;\">\n",
              "        \n",
              "  <svg xmlns=\"http://www.w3.org/2000/svg\" height=\"24px\"viewBox=\"0 0 24 24\"\n",
              "       width=\"24px\">\n",
              "    <path d=\"M0 0h24v24H0V0z\" fill=\"none\"/>\n",
              "    <path d=\"M18.56 5.44l.94 2.06.94-2.06 2.06-.94-2.06-.94-.94-2.06-.94 2.06-2.06.94zm-11 1L8.5 8.5l.94-2.06 2.06-.94-2.06-.94L8.5 2.5l-.94 2.06-2.06.94zm10 10l.94 2.06.94-2.06 2.06-.94-2.06-.94-.94-2.06-.94 2.06-2.06.94z\"/><path d=\"M17.41 7.96l-1.37-1.37c-.4-.4-.92-.59-1.43-.59-.52 0-1.04.2-1.43.59L10.3 9.45l-7.72 7.72c-.78.78-.78 2.05 0 2.83L4 21.41c.39.39.9.59 1.41.59.51 0 1.02-.2 1.41-.59l7.78-7.78 2.81-2.81c.8-.78.8-2.07 0-2.86zM5.41 20L4 18.59l7.72-7.72 1.47 1.35L5.41 20z\"/>\n",
              "  </svg>\n",
              "      </button>\n",
              "      \n",
              "  <style>\n",
              "    .colab-df-container {\n",
              "      display:flex;\n",
              "      flex-wrap:wrap;\n",
              "      gap: 12px;\n",
              "    }\n",
              "\n",
              "    .colab-df-convert {\n",
              "      background-color: #E8F0FE;\n",
              "      border: none;\n",
              "      border-radius: 50%;\n",
              "      cursor: pointer;\n",
              "      display: none;\n",
              "      fill: #1967D2;\n",
              "      height: 32px;\n",
              "      padding: 0 0 0 0;\n",
              "      width: 32px;\n",
              "    }\n",
              "\n",
              "    .colab-df-convert:hover {\n",
              "      background-color: #E2EBFA;\n",
              "      box-shadow: 0px 1px 2px rgba(60, 64, 67, 0.3), 0px 1px 3px 1px rgba(60, 64, 67, 0.15);\n",
              "      fill: #174EA6;\n",
              "    }\n",
              "\n",
              "    [theme=dark] .colab-df-convert {\n",
              "      background-color: #3B4455;\n",
              "      fill: #D2E3FC;\n",
              "    }\n",
              "\n",
              "    [theme=dark] .colab-df-convert:hover {\n",
              "      background-color: #434B5C;\n",
              "      box-shadow: 0px 1px 3px 1px rgba(0, 0, 0, 0.15);\n",
              "      filter: drop-shadow(0px 1px 2px rgba(0, 0, 0, 0.3));\n",
              "      fill: #FFFFFF;\n",
              "    }\n",
              "  </style>\n",
              "\n",
              "      <script>\n",
              "        const buttonEl =\n",
              "          document.querySelector('#df-cef897fd-4151-43c4-a33b-43f1eff5ecaf button.colab-df-convert');\n",
              "        buttonEl.style.display =\n",
              "          google.colab.kernel.accessAllowed ? 'block' : 'none';\n",
              "\n",
              "        async function convertToInteractive(key) {\n",
              "          const element = document.querySelector('#df-cef897fd-4151-43c4-a33b-43f1eff5ecaf');\n",
              "          const dataTable =\n",
              "            await google.colab.kernel.invokeFunction('convertToInteractive',\n",
              "                                                     [key], {});\n",
              "          if (!dataTable) return;\n",
              "\n",
              "          const docLinkHtml = 'Like what you see? Visit the ' +\n",
              "            '<a target=\"_blank\" href=https://colab.research.google.com/notebooks/data_table.ipynb>data table notebook</a>'\n",
              "            + ' to learn more about interactive tables.';\n",
              "          element.innerHTML = '';\n",
              "          dataTable['output_type'] = 'display_data';\n",
              "          await google.colab.output.renderOutput(dataTable, element);\n",
              "          const docLink = document.createElement('div');\n",
              "          docLink.innerHTML = docLinkHtml;\n",
              "          element.appendChild(docLink);\n",
              "        }\n",
              "      </script>\n",
              "    </div>\n",
              "  </div>\n",
              "  "
            ]
          },
          "metadata": {},
          "execution_count": 15
        }
      ]
    },
    {
      "cell_type": "code",
      "source": [
        "import matplotlib.pyplot as plt\n",
        "import numpy as np\n",
        "\n",
        "plt.figure(figsize= (6, 5))\n",
        "index = np.arange(len(Train))\n",
        "plt.bar(index, Train, width=0.4, label=\"Train\")\n",
        "plt.bar(index + 0.4, Test, width=0.4, label=\"Test\")\n",
        "\n",
        "plt.title('Perfomance of Deep Learning Models')\n",
        "plt.ylabel('Scores')\n",
        "plt.xticks(index, Model, rotation=45)\n",
        "plt.legend(loc=\"upper right\")\n",
        "plt.ylim(0,1)\n",
        "\n",
        "plt.show()"
      ],
      "metadata": {
        "colab": {
          "base_uri": "https://localhost:8080/",
          "height": 403
        },
        "id": "HeEeEixC9XQy",
        "outputId": "f8ee4bae-ebf5-4c08-c338-1f9727fab8d2"
      },
      "execution_count": 21,
      "outputs": [
        {
          "output_type": "display_data",
          "data": {
            "text/plain": [
              "<Figure size 432x360 with 1 Axes>"
            ],
            "image/png": "[encoded data removed]"
          },
          "metadata": {
            "needs_background": "light"
          }
        }
      ]
    },
    {
      "cell_type": "markdown",
      "source": [
        "## **Final Thoughts**\n",
        "- An easy conclusion is that Deep Learning beats traditional Machine Learning models hands down.\n",
        "- The Deep Learning models perfomed well generally; however, the performance on the test set can still be improved."
      ],
      "metadata": {
        "id": "MHpGDvIlBlOt"
      }
    },
    {
      "cell_type": "markdown",
      "source": [
        "#### Adressing Overfitting\n",
        "Overfiting is a major challenge especially in deep learning. Because of their complexity, they tend to learn complex (and sometimes irrelevant) features from the training set, which can not be generalized. Overfitting can be dealt with in any of the following ways:\n",
        "- **Get more data**: As a rule of thumb, models perform better with more training examples. However, getting more data is difficult in computational chemistry; as data sources are largely from experiments which are expensive.\n",
        "- **Improving models**: We can contine to tweak various hyperparameter until we improve performance; However, deep learning algorithms take a long time to converge, even on our modestly small sample size. So, time is a constrain. This can be adressed with increased in computer power. Generally, people or organizations with enormous computing power tend to do better in machine learning;\n",
        "- **Data Augmentation** This is a technique used in image processing;whereby a training example is flip in various orientation to create more examples. I found this technique useful, when working with medical images, where some class labels do not have many examples. However, I am not sure, if this can apply with molecules (More research about this??)\n",
        "- **Transfer Learning**: Another concept adapted from imaging and computer vision. The idea is to build a model on a pretrained model. Eg, ImageNet is, a model available on Tensowflow, a pretrained model for image classification. ChemBERTa, a pretrained model on deepchem,is based on similar idea. (More review on this.)"
      ],
      "metadata": {
        "id": "_zGsVOmVDDlB"
      }
    },
    {
      "cell_type": "markdown",
      "source": [
        "#### **Next Steps**\n",
        "- Continue to improve model and settle for one.\n",
        "- Deploy model for making predictions. The primary goal remain to make predictions from already approved drugs...\n"
      ],
      "metadata": {
        "id": "kcE-vVQwLQKl"
      }
    },
    {
      "cell_type": "markdown",
      "source": [
        "---\n",
        "#### **References**\n",
        "..."
      ],
      "metadata": {
        "id": "vwFHNijGNb49"
      }
    }
  ]
}